{
 "cells": [
  {
   "cell_type": "markdown",
   "metadata": {
    "id": "nRg9Inyb7URy"
   },
   "source": [
    "# Confidence intervals\n",
    "\n",
    "Throughout the following exercises, you will learn to use Python to construct a confidence interval for a point estimate. Before starting on this programming exercise, we strongly recommend watching the video lecture and completing the IVQ for the associated topics.\n",
    "\n"
   ]
  },
  {
   "cell_type": "markdown",
   "metadata": {
    "id": "9OgrxeO_TF8p"
   },
   "source": [
    "All the information you need for solving this assignment is in this notebook, and all the code you will be implementing will take place within this notebook. "
   ]
  },
  {
   "cell_type": "markdown",
   "metadata": {
    "id": "CIlN6n9bTFkr"
   },
   "source": [
    "As we move forward, you can find instructions on how to install required libraries as they arise in this notebook. Before we begin with the exercises and analyzing the data, we need to import all libraries and extensions required for this programming exercise. Throughout the course, we will be using numpy, pandas, and scipy stats for operations."
   ]
  },
  {
   "cell_type": "code",
   "execution_count": 1,
   "metadata": {},
   "outputs": [],
   "source": [
    "# Import packages\n",
    "# Import the relevant Python libraries and modules needed in this lab.\n",
    "\n",
    "### YOUR CODE HERE ###\n",
    "# Import libraries and packages\n",
    "\n",
    "# Import packages\n",
    "from google.cloud import storage\n",
    "\n",
    "import numpy as np\n",
    "import re\n",
    "import pandas as pd\n",
    "import matplotlib.pyplot as plt\n",
    "%matplotlib inline\n",
    "import seaborn as sns\n",
    "from matplotlib import cm\n",
    "from datetime import datetime\n",
    "import glob\n",
    "import os\n",
    "from io import StringIO\n",
    "from io import BytesIO\n",
    "import json\n",
    "import pickle\n",
    "import six\n",
    "import charset_normalizer\n",
    "from wordcloud import WordCloud \n",
    "from typing import List\n",
    "\n",
    "from scipy import stats\n",
    "import statsmodels.api as sm\n",
    "\n",
    "sns.set()\n",
    "pd.set_option('display.max_columns', None)\n",
    "pd.set_option('display.max_rows', None)\n",
    "pd.options.mode.chained_assignment = None"
   ]
  },
  {
   "cell_type": "code",
   "execution_count": 2,
   "metadata": {},
   "outputs": [
    {
     "data": {
      "text/plain": [
       "['education/education_districtwise.csv']"
      ]
     },
     "execution_count": 2,
     "metadata": {},
     "output_type": "execute_result"
    }
   ],
   "source": [
    "#storage_client =  storage.Client.from_service_account_json('../heidless-jupyter-0-d2008100d98c.json')\n",
    "storage_client =  storage.Client()\n",
    "\n",
    "BUCKET_NAME = 'heidless-jupyter-bucket-0'\n",
    "\n",
    "bucket = storage_client.get_bucket(BUCKET_NAME)\n",
    "\n",
    "AllCSV = []\n",
    "my_prefix = 'education/'\n",
    "my_file = 'education_districtwise.csv'\n",
    "full_file = my_prefix + my_file\n",
    "#print(f'full_file: {full_file}')\n",
    "\n",
    "file_names = list(bucket.list_blobs(prefix=my_prefix))\n",
    "for file in file_names:\n",
    "    if(file.name != my_prefix):\n",
    "        if file.name == full_file:\n",
    "            AllCSV.append(file.name)\n",
    "#            print(file.name)\n",
    "AllCSV\n"
   ]
  },
  {
   "cell_type": "code",
   "execution_count": 3,
   "metadata": {},
   "outputs": [
    {
     "name": "stdout",
     "output_type": "stream",
     "text": [
      "education/education_districtwise.csv\n"
     ]
    },
    {
     "data": {
      "text/html": [
       "<div>\n",
       "<style scoped>\n",
       "    .dataframe tbody tr th:only-of-type {\n",
       "        vertical-align: middle;\n",
       "    }\n",
       "\n",
       "    .dataframe tbody tr th {\n",
       "        vertical-align: top;\n",
       "    }\n",
       "\n",
       "    .dataframe thead th {\n",
       "        text-align: right;\n",
       "    }\n",
       "</style>\n",
       "<table border=\"1\" class=\"dataframe\">\n",
       "  <thead>\n",
       "    <tr style=\"text-align: right;\">\n",
       "      <th></th>\n",
       "      <th>DISTNAME</th>\n",
       "      <th>STATNAME</th>\n",
       "      <th>BLOCKS</th>\n",
       "      <th>VILLAGES</th>\n",
       "      <th>CLUSTERS</th>\n",
       "      <th>TOTPOPULAT</th>\n",
       "      <th>OVERALL_LI</th>\n",
       "    </tr>\n",
       "  </thead>\n",
       "  <tbody>\n",
       "    <tr>\n",
       "      <th>0</th>\n",
       "      <td>DISTRICT32</td>\n",
       "      <td>STATE1</td>\n",
       "      <td>13</td>\n",
       "      <td>391</td>\n",
       "      <td>104</td>\n",
       "      <td>875564.0</td>\n",
       "      <td>66.92</td>\n",
       "    </tr>\n",
       "    <tr>\n",
       "      <th>1</th>\n",
       "      <td>DISTRICT649</td>\n",
       "      <td>STATE1</td>\n",
       "      <td>18</td>\n",
       "      <td>678</td>\n",
       "      <td>144</td>\n",
       "      <td>1015503.0</td>\n",
       "      <td>66.93</td>\n",
       "    </tr>\n",
       "    <tr>\n",
       "      <th>2</th>\n",
       "      <td>DISTRICT229</td>\n",
       "      <td>STATE1</td>\n",
       "      <td>8</td>\n",
       "      <td>94</td>\n",
       "      <td>65</td>\n",
       "      <td>1269751.0</td>\n",
       "      <td>71.21</td>\n",
       "    </tr>\n",
       "    <tr>\n",
       "      <th>3</th>\n",
       "      <td>DISTRICT259</td>\n",
       "      <td>STATE1</td>\n",
       "      <td>13</td>\n",
       "      <td>523</td>\n",
       "      <td>104</td>\n",
       "      <td>735753.0</td>\n",
       "      <td>57.98</td>\n",
       "    </tr>\n",
       "    <tr>\n",
       "      <th>4</th>\n",
       "      <td>DISTRICT486</td>\n",
       "      <td>STATE1</td>\n",
       "      <td>8</td>\n",
       "      <td>359</td>\n",
       "      <td>64</td>\n",
       "      <td>570060.0</td>\n",
       "      <td>65.00</td>\n",
       "    </tr>\n",
       "  </tbody>\n",
       "</table>\n",
       "</div>"
      ],
      "text/plain": [
       "      DISTNAME STATNAME  BLOCKS  VILLAGES  CLUSTERS  TOTPOPULAT  OVERALL_LI\n",
       "0   DISTRICT32   STATE1      13       391       104    875564.0       66.92\n",
       "1  DISTRICT649   STATE1      18       678       144   1015503.0       66.93\n",
       "2  DISTRICT229   STATE1       8        94        65   1269751.0       71.21\n",
       "3  DISTRICT259   STATE1      13       523       104    735753.0       57.98\n",
       "4  DISTRICT486   STATE1       8       359        64    570060.0       65.00"
      ]
     },
     "execution_count": 3,
     "metadata": {},
     "output_type": "execute_result"
    }
   ],
   "source": [
    "# RUN THIS CELL TO IMPORT YOUR DATA.\n",
    "\n",
    "### YOUR CODE HERE ###\n",
    "#companies = pd.read_csv(\"Unicorn_Companies.csv\")\n",
    "\n",
    "# Display the first 10 rows of the data\n",
    "all_dataframes = []\n",
    "\n",
    "for csv in AllCSV:\n",
    "    blob = bucket.get_blob(csv)\n",
    "    if blob is not None and blob.exists(storage_client):\n",
    "        bt = blob.download_as_string()\n",
    "        s = str(bt, 'ISO-8859-1')\n",
    "        s = StringIO(s)\n",
    "        df = pd.read_csv(s, encoding='ISO-8859-1', low_memory=False)\n",
    "\n",
    "        #df['country'] = csv[0:2] # adding column 'country' so that each dataset could be identified uniquely\n",
    "        all_dataframes.append(df)\n",
    "        print(csv)\n",
    "    \n",
    "#all_dataframes[0].head() # index 0 to 9 for [CA, DE, FR, GB, IN, JP, KR, MX, RU, US] datasets\n",
    "\n",
    "education_districtwise = all_dataframes[0]\n",
    "education_districtwise.head()\n"
   ]
  },
  {
   "cell_type": "markdown",
   "metadata": {
    "id": "tRLN11Dl7oNM"
   },
   "source": [
    "import numpy as np\n",
    "import pandas as pd\n",
    "from scipy import stats"
   ]
  },
  {
   "cell_type": "markdown",
   "metadata": {
    "id": "LFDXVth27sPa"
   },
   "source": [
    "education_districtwise = pd.read_csv(\"education_districtwise.csv\")\n",
    "education_districtwise = education_districtwise.dropna()"
   ]
  },
  {
   "cell_type": "markdown",
   "metadata": {
    "id": "6RHDSjd-Tt8f"
   },
   "source": [
    "We’ll continue with our previous scenario, in which you’re a data professional working for the Department of Education of a large nation. Earlier, we imagined that the Department of Education asked you to collect the data on district literacy rates. You were only able to survey 50 randomly chosen districts, instead of all 634 districts included in your original dataset. You used Python to simulate taking a random sample of 50 districts, and make a point estimate of the population mean, or literacy rate for *all* districts. "
   ]
  },
  {
   "cell_type": "markdown",
   "metadata": {
    "id": "Z-Cw7P10ZkKs"
   },
   "source": [
    "Now imagine that the department asks you to construct a 95% confidence interval for your estimate of the mean district literacy rate. You can use Python to construct the confidence interval. \n"
   ]
  },
  {
   "cell_type": "markdown",
   "metadata": {
    "id": "fu9rz0hkOAEn"
   },
   "source": [
    "You can also use the same sample data that you worked with earlier. Write the code to have Python simulate the same random sample of district literacy rate data. First, name your variable `sampled_data`. Then, enter the arguments of the `sample()` function. \n",
    "\n",
    "\n",
    "*   `n`: Your sample size is `50`. \n",
    "*   `replace`: Choose `True` because you are sampling with replacement.\n",
    "*   `random_state`: Choose the same random number to generate the same results–previously, you used `31,208`. \n",
    "\n",
    "\n",
    "\n",
    "\n",
    "\n",
    "\n",
    " \n"
   ]
  },
  {
   "cell_type": "code",
   "execution_count": 4,
   "metadata": {
    "id": "lkyQKjDhN2pu"
   },
   "outputs": [
    {
     "data": {
      "text/html": [
       "<div>\n",
       "<style scoped>\n",
       "    .dataframe tbody tr th:only-of-type {\n",
       "        vertical-align: middle;\n",
       "    }\n",
       "\n",
       "    .dataframe tbody tr th {\n",
       "        vertical-align: top;\n",
       "    }\n",
       "\n",
       "    .dataframe thead th {\n",
       "        text-align: right;\n",
       "    }\n",
       "</style>\n",
       "<table border=\"1\" class=\"dataframe\">\n",
       "  <thead>\n",
       "    <tr style=\"text-align: right;\">\n",
       "      <th></th>\n",
       "      <th>DISTNAME</th>\n",
       "      <th>STATNAME</th>\n",
       "      <th>BLOCKS</th>\n",
       "      <th>VILLAGES</th>\n",
       "      <th>CLUSTERS</th>\n",
       "      <th>TOTPOPULAT</th>\n",
       "      <th>OVERALL_LI</th>\n",
       "    </tr>\n",
       "  </thead>\n",
       "  <tbody>\n",
       "    <tr>\n",
       "      <th>615</th>\n",
       "      <td>DISTRICT606</td>\n",
       "      <td>STATE20</td>\n",
       "      <td>6</td>\n",
       "      <td>782</td>\n",
       "      <td>96</td>\n",
       "      <td>NaN</td>\n",
       "      <td>NaN</td>\n",
       "    </tr>\n",
       "    <tr>\n",
       "      <th>210</th>\n",
       "      <td>DISTRICT618</td>\n",
       "      <td>STATE28</td>\n",
       "      <td>5</td>\n",
       "      <td>183</td>\n",
       "      <td>34</td>\n",
       "      <td>656916.0</td>\n",
       "      <td>56.00</td>\n",
       "    </tr>\n",
       "    <tr>\n",
       "      <th>348</th>\n",
       "      <td>DISTRICT255</td>\n",
       "      <td>STATE34</td>\n",
       "      <td>10</td>\n",
       "      <td>920</td>\n",
       "      <td>78</td>\n",
       "      <td>1670931.0</td>\n",
       "      <td>73.86</td>\n",
       "    </tr>\n",
       "    <tr>\n",
       "      <th>248</th>\n",
       "      <td>DISTRICT63</td>\n",
       "      <td>STATE18</td>\n",
       "      <td>8</td>\n",
       "      <td>230</td>\n",
       "      <td>32</td>\n",
       "      <td>146742.0</td>\n",
       "      <td>82.06</td>\n",
       "    </tr>\n",
       "    <tr>\n",
       "      <th>276</th>\n",
       "      <td>DISTRICT57</td>\n",
       "      <td>STATE27</td>\n",
       "      <td>6</td>\n",
       "      <td>121</td>\n",
       "      <td>6</td>\n",
       "      <td>270063.0</td>\n",
       "      <td>85.58</td>\n",
       "    </tr>\n",
       "    <tr>\n",
       "      <th>350</th>\n",
       "      <td>DISTRICT254</td>\n",
       "      <td>STATE34</td>\n",
       "      <td>33</td>\n",
       "      <td>3142</td>\n",
       "      <td>286</td>\n",
       "      <td>7102430.0</td>\n",
       "      <td>67.53</td>\n",
       "    </tr>\n",
       "    <tr>\n",
       "      <th>252</th>\n",
       "      <td>DISTRICT194</td>\n",
       "      <td>STATE3</td>\n",
       "      <td>8</td>\n",
       "      <td>271</td>\n",
       "      <td>24</td>\n",
       "      <td>78413.0</td>\n",
       "      <td>62.48</td>\n",
       "    </tr>\n",
       "    <tr>\n",
       "      <th>10</th>\n",
       "      <td>DISTRICT412</td>\n",
       "      <td>STATE1</td>\n",
       "      <td>11</td>\n",
       "      <td>187</td>\n",
       "      <td>95</td>\n",
       "      <td>476820.0</td>\n",
       "      <td>68.69</td>\n",
       "    </tr>\n",
       "    <tr>\n",
       "      <th>478</th>\n",
       "      <td>DISTRICT155</td>\n",
       "      <td>STATE22</td>\n",
       "      <td>5</td>\n",
       "      <td>1116</td>\n",
       "      <td>58</td>\n",
       "      <td>1311008.0</td>\n",
       "      <td>71.11</td>\n",
       "    </tr>\n",
       "    <tr>\n",
       "      <th>638</th>\n",
       "      <td>DISTRICT609</td>\n",
       "      <td>STATE6</td>\n",
       "      <td>18</td>\n",
       "      <td>1470</td>\n",
       "      <td>167</td>\n",
       "      <td>2468965.0</td>\n",
       "      <td>74.72</td>\n",
       "    </tr>\n",
       "    <tr>\n",
       "      <th>142</th>\n",
       "      <td>DISTRICT570</td>\n",
       "      <td>STATE21</td>\n",
       "      <td>4</td>\n",
       "      <td>399</td>\n",
       "      <td>37</td>\n",
       "      <td>1674714.0</td>\n",
       "      <td>82.20</td>\n",
       "    </tr>\n",
       "    <tr>\n",
       "      <th>307</th>\n",
       "      <td>DISTRICT8</td>\n",
       "      <td>STATE4</td>\n",
       "      <td>3</td>\n",
       "      <td>518</td>\n",
       "      <td>41</td>\n",
       "      <td>317618.0</td>\n",
       "      <td>75.51</td>\n",
       "    </tr>\n",
       "    <tr>\n",
       "      <th>221</th>\n",
       "      <td>DISTRICT501</td>\n",
       "      <td>STATE28</td>\n",
       "      <td>16</td>\n",
       "      <td>1828</td>\n",
       "      <td>258</td>\n",
       "      <td>4778610.0</td>\n",
       "      <td>65.68</td>\n",
       "    </tr>\n",
       "    <tr>\n",
       "      <th>84</th>\n",
       "      <td>DISTRICT326</td>\n",
       "      <td>STATE25</td>\n",
       "      <td>5</td>\n",
       "      <td>256</td>\n",
       "      <td>45</td>\n",
       "      <td>956907.0</td>\n",
       "      <td>80.83</td>\n",
       "    </tr>\n",
       "    <tr>\n",
       "      <th>403</th>\n",
       "      <td>DISTRICT529</td>\n",
       "      <td>STATE24</td>\n",
       "      <td>11</td>\n",
       "      <td>1220</td>\n",
       "      <td>134</td>\n",
       "      <td>1271703.0</td>\n",
       "      <td>78.96</td>\n",
       "    </tr>\n",
       "    <tr>\n",
       "      <th>254</th>\n",
       "      <td>DISTRICT458</td>\n",
       "      <td>STATE3</td>\n",
       "      <td>3</td>\n",
       "      <td>157</td>\n",
       "      <td>19</td>\n",
       "      <td>82839.0</td>\n",
       "      <td>76.33</td>\n",
       "    </tr>\n",
       "    <tr>\n",
       "      <th>271</th>\n",
       "      <td>DISTRICT680</td>\n",
       "      <td>STATE27</td>\n",
       "      <td>5</td>\n",
       "      <td>126</td>\n",
       "      <td>14</td>\n",
       "      <td>196801.0</td>\n",
       "      <td>73.70</td>\n",
       "    </tr>\n",
       "    <tr>\n",
       "      <th>256</th>\n",
       "      <td>DISTRICT448</td>\n",
       "      <td>STATE3</td>\n",
       "      <td>10</td>\n",
       "      <td>230</td>\n",
       "      <td>17</td>\n",
       "      <td>112272.0</td>\n",
       "      <td>67.62</td>\n",
       "    </tr>\n",
       "    <tr>\n",
       "      <th>247</th>\n",
       "      <td>DISTRICT602</td>\n",
       "      <td>STATE18</td>\n",
       "      <td>7</td>\n",
       "      <td>250</td>\n",
       "      <td>33</td>\n",
       "      <td>136299.0</td>\n",
       "      <td>78.69</td>\n",
       "    </tr>\n",
       "    <tr>\n",
       "      <th>291</th>\n",
       "      <td>DISTRICT361</td>\n",
       "      <td>STATE12</td>\n",
       "      <td>3</td>\n",
       "      <td>45</td>\n",
       "      <td>11</td>\n",
       "      <td>83054.0</td>\n",
       "      <td>94.54</td>\n",
       "    </tr>\n",
       "    <tr>\n",
       "      <th>338</th>\n",
       "      <td>DISTRICT659</td>\n",
       "      <td>STATE33</td>\n",
       "      <td>6</td>\n",
       "      <td>995</td>\n",
       "      <td>112</td>\n",
       "      <td>1217002.0</td>\n",
       "      <td>79.72</td>\n",
       "    </tr>\n",
       "    <tr>\n",
       "      <th>163</th>\n",
       "      <td>DISTRICT366</td>\n",
       "      <td>STATE21</td>\n",
       "      <td>9</td>\n",
       "      <td>1330</td>\n",
       "      <td>86</td>\n",
       "      <td>1579160.0</td>\n",
       "      <td>79.99</td>\n",
       "    </tr>\n",
       "    <tr>\n",
       "      <th>524</th>\n",
       "      <td>DISTRICT179</td>\n",
       "      <td>STATE9</td>\n",
       "      <td>4</td>\n",
       "      <td>195</td>\n",
       "      <td>40</td>\n",
       "      <td>NaN</td>\n",
       "      <td>NaN</td>\n",
       "    </tr>\n",
       "    <tr>\n",
       "      <th>369</th>\n",
       "      <td>DISTRICT512</td>\n",
       "      <td>STATE23</td>\n",
       "      <td>6</td>\n",
       "      <td>589</td>\n",
       "      <td>30</td>\n",
       "      <td>717169.0</td>\n",
       "      <td>68.35</td>\n",
       "    </tr>\n",
       "    <tr>\n",
       "      <th>428</th>\n",
       "      <td>DISTRICT641</td>\n",
       "      <td>STATE31</td>\n",
       "      <td>3</td>\n",
       "      <td>567</td>\n",
       "      <td>61</td>\n",
       "      <td>3343079.0</td>\n",
       "      <td>79.69</td>\n",
       "    </tr>\n",
       "    <tr>\n",
       "      <th>365</th>\n",
       "      <td>DISTRICT656</td>\n",
       "      <td>STATE23</td>\n",
       "      <td>19</td>\n",
       "      <td>794</td>\n",
       "      <td>78</td>\n",
       "      <td>1322387.0</td>\n",
       "      <td>62.18</td>\n",
       "    </tr>\n",
       "    <tr>\n",
       "      <th>548</th>\n",
       "      <td>DISTRICT283</td>\n",
       "      <td>STATE17</td>\n",
       "      <td>5</td>\n",
       "      <td>765</td>\n",
       "      <td>68</td>\n",
       "      <td>1178973.0</td>\n",
       "      <td>76.04</td>\n",
       "    </tr>\n",
       "    <tr>\n",
       "      <th>638</th>\n",
       "      <td>DISTRICT609</td>\n",
       "      <td>STATE6</td>\n",
       "      <td>18</td>\n",
       "      <td>1470</td>\n",
       "      <td>167</td>\n",
       "      <td>2468965.0</td>\n",
       "      <td>74.72</td>\n",
       "    </tr>\n",
       "    <tr>\n",
       "      <th>325</th>\n",
       "      <td>DISTRICT1</td>\n",
       "      <td>STATE33</td>\n",
       "      <td>4</td>\n",
       "      <td>534</td>\n",
       "      <td>98</td>\n",
       "      <td>957853.0</td>\n",
       "      <td>69.37</td>\n",
       "    </tr>\n",
       "    <tr>\n",
       "      <th>498</th>\n",
       "      <td>DISTRICT443</td>\n",
       "      <td>STATE9</td>\n",
       "      <td>14</td>\n",
       "      <td>1377</td>\n",
       "      <td>282</td>\n",
       "      <td>3116045.0</td>\n",
       "      <td>66.39</td>\n",
       "    </tr>\n",
       "    <tr>\n",
       "      <th>426</th>\n",
       "      <td>DISTRICT284</td>\n",
       "      <td>STATE31</td>\n",
       "      <td>4</td>\n",
       "      <td>932</td>\n",
       "      <td>90</td>\n",
       "      <td>822239.0</td>\n",
       "      <td>61.95</td>\n",
       "    </tr>\n",
       "    <tr>\n",
       "      <th>669</th>\n",
       "      <td>DISTRICT206</td>\n",
       "      <td>STATE11</td>\n",
       "      <td>3</td>\n",
       "      <td>76</td>\n",
       "      <td>13</td>\n",
       "      <td>105539.0</td>\n",
       "      <td>84.25</td>\n",
       "    </tr>\n",
       "    <tr>\n",
       "      <th>621</th>\n",
       "      <td>DISTRICT592</td>\n",
       "      <td>STATE5</td>\n",
       "      <td>3</td>\n",
       "      <td>50</td>\n",
       "      <td>38</td>\n",
       "      <td>816558.0</td>\n",
       "      <td>89.32</td>\n",
       "    </tr>\n",
       "    <tr>\n",
       "      <th>368</th>\n",
       "      <td>DISTRICT531</td>\n",
       "      <td>STATE23</td>\n",
       "      <td>16</td>\n",
       "      <td>1063</td>\n",
       "      <td>114</td>\n",
       "      <td>1734005.0</td>\n",
       "      <td>70.48</td>\n",
       "    </tr>\n",
       "    <tr>\n",
       "      <th>292</th>\n",
       "      <td>DISTRICT289</td>\n",
       "      <td>STATE12</td>\n",
       "      <td>11</td>\n",
       "      <td>183</td>\n",
       "      <td>51</td>\n",
       "      <td>404054.0</td>\n",
       "      <td>98.50</td>\n",
       "    </tr>\n",
       "    <tr>\n",
       "      <th>207</th>\n",
       "      <td>DISTRICT258</td>\n",
       "      <td>STATE21</td>\n",
       "      <td>6</td>\n",
       "      <td>342</td>\n",
       "      <td>53</td>\n",
       "      <td>NaN</td>\n",
       "      <td>NaN</td>\n",
       "    </tr>\n",
       "    <tr>\n",
       "      <th>95</th>\n",
       "      <td>DISTRICT90</td>\n",
       "      <td>STATE2</td>\n",
       "      <td>7</td>\n",
       "      <td>29</td>\n",
       "      <td>7</td>\n",
       "      <td>133713.0</td>\n",
       "      <td>89.38</td>\n",
       "    </tr>\n",
       "    <tr>\n",
       "      <th>76</th>\n",
       "      <td>DISTRICT282</td>\n",
       "      <td>STATE25</td>\n",
       "      <td>6</td>\n",
       "      <td>201</td>\n",
       "      <td>43</td>\n",
       "      <td>1202811.0</td>\n",
       "      <td>77.46</td>\n",
       "    </tr>\n",
       "    <tr>\n",
       "      <th>372</th>\n",
       "      <td>DISTRICT342</td>\n",
       "      <td>STATE23</td>\n",
       "      <td>9</td>\n",
       "      <td>1381</td>\n",
       "      <td>120</td>\n",
       "      <td>1311382.0</td>\n",
       "      <td>57.68</td>\n",
       "    </tr>\n",
       "    <tr>\n",
       "      <th>182</th>\n",
       "      <td>DISTRICT670</td>\n",
       "      <td>STATE21</td>\n",
       "      <td>15</td>\n",
       "      <td>1594</td>\n",
       "      <td>142</td>\n",
       "      <td>3478257.0</td>\n",
       "      <td>51.10</td>\n",
       "    </tr>\n",
       "    <tr>\n",
       "      <th>145</th>\n",
       "      <td>DISTRICT244</td>\n",
       "      <td>STATE21</td>\n",
       "      <td>9</td>\n",
       "      <td>996</td>\n",
       "      <td>76</td>\n",
       "      <td>1565678.0</td>\n",
       "      <td>73.10</td>\n",
       "    </tr>\n",
       "    <tr>\n",
       "      <th>501</th>\n",
       "      <td>DISTRICT54</td>\n",
       "      <td>STATE9</td>\n",
       "      <td>8</td>\n",
       "      <td>684</td>\n",
       "      <td>167</td>\n",
       "      <td>2427346.0</td>\n",
       "      <td>76.60</td>\n",
       "    </tr>\n",
       "    <tr>\n",
       "      <th>103</th>\n",
       "      <td>DISTRICT186</td>\n",
       "      <td>STATE13</td>\n",
       "      <td>7</td>\n",
       "      <td>1053</td>\n",
       "      <td>289</td>\n",
       "      <td>2041172.0</td>\n",
       "      <td>67.46</td>\n",
       "    </tr>\n",
       "    <tr>\n",
       "      <th>248</th>\n",
       "      <td>DISTRICT63</td>\n",
       "      <td>STATE18</td>\n",
       "      <td>8</td>\n",
       "      <td>230</td>\n",
       "      <td>32</td>\n",
       "      <td>146742.0</td>\n",
       "      <td>82.06</td>\n",
       "    </tr>\n",
       "    <tr>\n",
       "      <th>107</th>\n",
       "      <td>DISTRICT630</td>\n",
       "      <td>STATE13</td>\n",
       "      <td>5</td>\n",
       "      <td>825</td>\n",
       "      <td>222</td>\n",
       "      <td>1207293.0</td>\n",
       "      <td>70.14</td>\n",
       "    </tr>\n",
       "    <tr>\n",
       "      <th>566</th>\n",
       "      <td>DISTRICT24</td>\n",
       "      <td>STATE17</td>\n",
       "      <td>13</td>\n",
       "      <td>1298</td>\n",
       "      <td>190</td>\n",
       "      <td>3874015.0</td>\n",
       "      <td>82.90</td>\n",
       "    </tr>\n",
       "    <tr>\n",
       "      <th>53</th>\n",
       "      <td>DISTRICT126</td>\n",
       "      <td>STATE26</td>\n",
       "      <td>3</td>\n",
       "      <td>197</td>\n",
       "      <td>21</td>\n",
       "      <td>596294.0</td>\n",
       "      <td>68.90</td>\n",
       "    </tr>\n",
       "    <tr>\n",
       "      <th>79</th>\n",
       "      <td>DISTRICT447</td>\n",
       "      <td>STATE25</td>\n",
       "      <td>6</td>\n",
       "      <td>284</td>\n",
       "      <td>60</td>\n",
       "      <td>941522.0</td>\n",
       "      <td>69.13</td>\n",
       "    </tr>\n",
       "    <tr>\n",
       "      <th>482</th>\n",
       "      <td>DISTRICT119</td>\n",
       "      <td>STATE22</td>\n",
       "      <td>7</td>\n",
       "      <td>1014</td>\n",
       "      <td>54</td>\n",
       "      <td>1240975.0</td>\n",
       "      <td>76.52</td>\n",
       "    </tr>\n",
       "    <tr>\n",
       "      <th>595</th>\n",
       "      <td>DISTRICT268</td>\n",
       "      <td>STATE20</td>\n",
       "      <td>7</td>\n",
       "      <td>878</td>\n",
       "      <td>131</td>\n",
       "      <td>1946905.0</td>\n",
       "      <td>76.30</td>\n",
       "    </tr>\n",
       "  </tbody>\n",
       "</table>\n",
       "</div>"
      ],
      "text/plain": [
       "        DISTNAME STATNAME  BLOCKS  VILLAGES  CLUSTERS  TOTPOPULAT  OVERALL_LI\n",
       "615  DISTRICT606  STATE20       6       782        96         NaN         NaN\n",
       "210  DISTRICT618  STATE28       5       183        34    656916.0       56.00\n",
       "348  DISTRICT255  STATE34      10       920        78   1670931.0       73.86\n",
       "248   DISTRICT63  STATE18       8       230        32    146742.0       82.06\n",
       "276   DISTRICT57  STATE27       6       121         6    270063.0       85.58\n",
       "350  DISTRICT254  STATE34      33      3142       286   7102430.0       67.53\n",
       "252  DISTRICT194   STATE3       8       271        24     78413.0       62.48\n",
       "10   DISTRICT412   STATE1      11       187        95    476820.0       68.69\n",
       "478  DISTRICT155  STATE22       5      1116        58   1311008.0       71.11\n",
       "638  DISTRICT609   STATE6      18      1470       167   2468965.0       74.72\n",
       "142  DISTRICT570  STATE21       4       399        37   1674714.0       82.20\n",
       "307    DISTRICT8   STATE4       3       518        41    317618.0       75.51\n",
       "221  DISTRICT501  STATE28      16      1828       258   4778610.0       65.68\n",
       "84   DISTRICT326  STATE25       5       256        45    956907.0       80.83\n",
       "403  DISTRICT529  STATE24      11      1220       134   1271703.0       78.96\n",
       "254  DISTRICT458   STATE3       3       157        19     82839.0       76.33\n",
       "271  DISTRICT680  STATE27       5       126        14    196801.0       73.70\n",
       "256  DISTRICT448   STATE3      10       230        17    112272.0       67.62\n",
       "247  DISTRICT602  STATE18       7       250        33    136299.0       78.69\n",
       "291  DISTRICT361  STATE12       3        45        11     83054.0       94.54\n",
       "338  DISTRICT659  STATE33       6       995       112   1217002.0       79.72\n",
       "163  DISTRICT366  STATE21       9      1330        86   1579160.0       79.99\n",
       "524  DISTRICT179   STATE9       4       195        40         NaN         NaN\n",
       "369  DISTRICT512  STATE23       6       589        30    717169.0       68.35\n",
       "428  DISTRICT641  STATE31       3       567        61   3343079.0       79.69\n",
       "365  DISTRICT656  STATE23      19       794        78   1322387.0       62.18\n",
       "548  DISTRICT283  STATE17       5       765        68   1178973.0       76.04\n",
       "638  DISTRICT609   STATE6      18      1470       167   2468965.0       74.72\n",
       "325    DISTRICT1  STATE33       4       534        98    957853.0       69.37\n",
       "498  DISTRICT443   STATE9      14      1377       282   3116045.0       66.39\n",
       "426  DISTRICT284  STATE31       4       932        90    822239.0       61.95\n",
       "669  DISTRICT206  STATE11       3        76        13    105539.0       84.25\n",
       "621  DISTRICT592   STATE5       3        50        38    816558.0       89.32\n",
       "368  DISTRICT531  STATE23      16      1063       114   1734005.0       70.48\n",
       "292  DISTRICT289  STATE12      11       183        51    404054.0       98.50\n",
       "207  DISTRICT258  STATE21       6       342        53         NaN         NaN\n",
       "95    DISTRICT90   STATE2       7        29         7    133713.0       89.38\n",
       "76   DISTRICT282  STATE25       6       201        43   1202811.0       77.46\n",
       "372  DISTRICT342  STATE23       9      1381       120   1311382.0       57.68\n",
       "182  DISTRICT670  STATE21      15      1594       142   3478257.0       51.10\n",
       "145  DISTRICT244  STATE21       9       996        76   1565678.0       73.10\n",
       "501   DISTRICT54   STATE9       8       684       167   2427346.0       76.60\n",
       "103  DISTRICT186  STATE13       7      1053       289   2041172.0       67.46\n",
       "248   DISTRICT63  STATE18       8       230        32    146742.0       82.06\n",
       "107  DISTRICT630  STATE13       5       825       222   1207293.0       70.14\n",
       "566   DISTRICT24  STATE17      13      1298       190   3874015.0       82.90\n",
       "53   DISTRICT126  STATE26       3       197        21    596294.0       68.90\n",
       "79   DISTRICT447  STATE25       6       284        60    941522.0       69.13\n",
       "482  DISTRICT119  STATE22       7      1014        54   1240975.0       76.52\n",
       "595  DISTRICT268  STATE20       7       878       131   1946905.0       76.30"
      ]
     },
     "execution_count": 4,
     "metadata": {},
     "output_type": "execute_result"
    }
   ],
   "source": [
    "sampled_data = education_districtwise.sample(n=50, replace=True, random_state=31208)\n",
    "sampled_data"
   ]
  },
  {
   "cell_type": "markdown",
   "metadata": {
    "id": "fcEKHAs2OR5K"
   },
   "source": [
    "The output shows 50 districts selected randomly from your dataset. Each has a different literacy rate. "
   ]
  },
  {
   "cell_type": "markdown",
   "metadata": {
    "id": "6PzHorGq701S"
   },
   "source": [
    "## Construct a 95% confidence interval \n",
    "\n",
    "Now, construct a 95% confidence interval of the mean district literacy rate based on your sample data. Recall the four steps for constructing a confidence interval:\n",
    "\n",
    "1.   Identify a sample statistic\n",
    "2.   Choose a confidence level\n",
    "3.   Find the margin of error \n",
    "4.   Calculate the interval"
   ]
  },
  {
   "cell_type": "markdown",
   "metadata": {
    "id": "ZJLLkvxpCJGi"
   },
   "source": [
    "### `scipy.stats.norm.interval()`\n",
    "\n",
    "Earlier, you worked through these steps one by one to construct a confidence interval. With Python, you can construct a confidence interval with just a single line of code–and get your results faster! \n",
    "\n",
    "If you’re working with a large sample size, say larger than 30, you can construct a confidence interval for the mean using `scipy.stats.norm.interval()`. This function includes the following arguments: \n",
    "\n",
    "*   `alpha`: The confidence level\n",
    "*   `loc`: The sample mean\n",
    "*   `scale`: The sample standard error\n",
    "\n",
    "**Reference**: https://docs.scipy.org/doc/scipy/reference/generated/scipy.stats.norm.html.\n",
    "\n",
    "Let’s explore each argument in more detail. "
   ]
  },
  {
   "cell_type": "markdown",
   "metadata": {
    "id": "a_acE_ve-3SA"
   },
   "source": [
    "\n",
    "\n",
    "#### `alpha`: The confidence level\n",
    "\n",
    "The Department of Education requests a confidence level of 95%, which is the accepted standard for government funded research. "
   ]
  },
  {
   "cell_type": "markdown",
   "metadata": {
    "id": "mwVqV6EO_fFO"
   },
   "source": [
    "#### `loc`: The sample mean\n",
    "\n",
    "This is the mean literacy rate of your sample of 50 districts. Name a new variable `sample_mean`. Then, compute the mean district literacy rate for your sample data. "
   ]
  },
  {
   "cell_type": "code",
   "execution_count": 5,
   "metadata": {
    "id": "F6T99hTP_Ude"
   },
   "outputs": [],
   "source": [
    "sample_mean = sampled_data['OVERALL_LI'].mean()"
   ]
  },
  {
   "cell_type": "markdown",
   "metadata": {
    "id": "83Vv5W5__ruv"
   },
   "source": [
    "#### `scale`: The sample standard error\n",
    "\n",
    "Recall that **standard error** measures the variability of your sample data. You may remember that the formula for the sample standard error is the sample standard deviation divided by the square root of the sample size.\n",
    "\n",
    "**Note**: In practice, we typically don't know the true standard error, so we replace it with the estimated standard error."
   ]
  },
  {
   "cell_type": "markdown",
   "metadata": {
    "id": "AWF-PDhg7hBN"
   },
   "source": [
    "You can write code to express the formula and have Python do the calculation for you: \n",
    "\n",
    "1. Name a new variable `estimated_standard_error`. \n",
    "2. Take the standard deviation of your sample data, and divide by the square root of your sample. \n",
    "3. In parentheses, write the name of your data frame followed by the shape function and zero in brackets. Recall that the shape function returns the number of rows and columns in a data frame. `shape[0]` returns only the number of rows, which is the same number as your sample size.  "
   ]
  },
  {
   "cell_type": "code",
   "execution_count": 6,
   "metadata": {
    "id": "9JFS2K3K7sGl"
   },
   "outputs": [],
   "source": [
    "estimated_standard_error = sampled_data['OVERALL_LI'].std() / np.sqrt(sampled_data.shape[0])"
   ]
  },
  {
   "cell_type": "markdown",
   "metadata": {
    "id": "5i2NSb4dY1vQ"
   },
   "source": [
    "Now you’re ready to put all this together to construct your confidence interval for the mean using `scipy.stats.norm.interval()`. First, write out the function and set the arguments:\n",
    "\n",
    "*   `alpha`: Enter `0.95` because you want to use a 95% confidence level\n",
    "*   `loc`: Enter the variable `sample_mean`\n",
    "*   `scale`: Enter the variable `estimated_standard_error`\n"
   ]
  },
  {
   "cell_type": "code",
   "execution_count": 8,
   "metadata": {
    "colab": {
     "base_uri": "https://localhost:8080/"
    },
    "id": "41H-BfjkBlvP",
    "outputId": "ee5e7d75-7217-4da1-afa4-00d7c326367d"
   },
   "outputs": [
    {
     "data": {
      "text/plain": [
       "(71.73192867194474, 77.02424154082122)"
      ]
     },
     "execution_count": 8,
     "metadata": {},
     "output_type": "execute_result"
    }
   ],
   "source": [
    "stats.norm.interval(confidence=0.95, loc=sample_mean, scale=estimated_standard_error)"
   ]
  },
  {
   "cell_type": "markdown",
   "metadata": {
    "id": "HTSQ8e_6DCRF"
   },
   "source": [
    "You have a 95% confidence interval for the mean district literacy rate that stretches from about 71.4% to 77.0%. \n",
    "\n",
    "95% CI: (71.42, 77.02)"
   ]
  },
  {
   "cell_type": "markdown",
   "metadata": {
    "id": "uDMi1yGq_Rmb"
   },
   "source": [
    "The Department of Education will use your estimate of the mean district literacy rate to help make decisions about distributing funds to different states.  "
   ]
  },
  {
   "cell_type": "markdown",
   "metadata": {
    "id": "dqnDAxYnGMjh"
   },
   "source": [
    "## Construct a 99% confidence interval \n",
    "\n",
    "Now imagine that a senior director in the department wants to be even *more* confident about your results. The director wants to make sure you have a reliable estimate, and suggests that you recalculate your interval with a 99% confidence level.\n",
    "\n",
    "To compute a 99% confidence interval based on the same sample data, just change `alpha` to `0.99`. \n",
    "\n"
   ]
  },
  {
   "cell_type": "code",
   "execution_count": 9,
   "metadata": {
    "colab": {
     "base_uri": "https://localhost:8080/"
    },
    "id": "__oLZkULTEL0",
    "outputId": "da0da653-9c89-40fb-f540-15fbe22a8dc3"
   },
   "outputs": [
    {
     "data": {
      "text/plain": [
       "(70.90044605823485, 77.85572415453112)"
      ]
     },
     "execution_count": 9,
     "metadata": {},
     "output_type": "execute_result"
    }
   ],
   "source": [
    "stats.norm.interval(confidence=0.99, loc=sample_mean, scale=estimated_standard_error)"
   ]
  },
  {
   "cell_type": "markdown",
   "metadata": {
    "id": "An8oC5lxAe3l"
   },
   "source": [
    "You have a 99% confidence interval for the mean district literacy rate that stretches from about 70.5% to 77.9%.\n",
    "\n",
    "99% CI: (70.54, 77.90)"
   ]
  },
  {
   "cell_type": "markdown",
   "metadata": {
    "id": "0Acxk517VExR"
   },
   "source": [
    "### Relationship between confidence level and confidence interval\n",
    "\n",
    "You may notice that as the confidence *level* gets higher, the confidence *interval* gets wider. \n",
    "\n",
    "* With a confidence level of 95%, the interval covers 5.6 percentage points (71.4% - 77.0%)\n",
    "* With a confidence level of 99%, the interval covers 7.4 percentage points (70.5% - 77.9%)\n",
    "\n",
    "This is because a wider confidence interval is more likely to include the actual population parameter."
   ]
  },
  {
   "cell_type": "markdown",
   "metadata": {
    "id": "PPtvmlTkCGLf"
   },
   "source": [
    "Your results will help the Department of Education decide how to distribute government resources to improve literacy. "
   ]
  },
  {
   "cell_type": "markdown",
   "metadata": {
    "id": "lOA5DfiLT3By"
   },
   "source": [
    "If you have successfully completed the material above, congratulations! You now understand how to use Python to construct a confidence interval for a point estimate. Going forward, you can start using Python to construct confidence intervals for your own data."
   ]
  }
 ],
 "metadata": {
  "colab": {
   "provenance": [
    {
     "file_id": "1RauiVfIppXz1er4rcSsco0XGUdXN8yNR",
     "timestamp": 1662733812813
    },
    {
     "file_id": "1YfGEgJ_UMYBl6rVB8fhpLXk021pYoXPX",
     "timestamp": 1658846871283
    }
   ]
  },
  "environment": {
   "kernel": "python3",
   "name": "common-cpu.m112",
   "type": "gcloud",
   "uri": "gcr.io/deeplearning-platform-release/base-cpu:m112"
  },
  "kernelspec": {
   "display_name": "Python 3",
   "language": "python",
   "name": "python3"
  },
  "language_info": {
   "codemirror_mode": {
    "name": "ipython",
    "version": 3
   },
   "file_extension": ".py",
   "mimetype": "text/x-python",
   "name": "python",
   "nbconvert_exporter": "python",
   "pygments_lexer": "ipython3",
   "version": "3.10.12"
  }
 },
 "nbformat": 4,
 "nbformat_minor": 4
}
