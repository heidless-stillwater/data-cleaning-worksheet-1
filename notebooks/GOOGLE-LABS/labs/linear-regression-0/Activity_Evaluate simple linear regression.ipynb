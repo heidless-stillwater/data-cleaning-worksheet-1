{
 "cells": [
  {
   "cell_type": "markdown",
   "id": "3fb051d0",
   "metadata": {
    "id": "bab72e07-7c9c-4ef0-9b66-7a89577ecc4e"
   },
   "source": [
    "# Activity: Evaluate simple linear regression"
   ]
  },
  {
   "cell_type": "markdown",
   "id": "cdacc383",
   "metadata": {
    "id": "55d2e60a-9af7-4d25-9579-bf09ff0b911d"
   },
   "source": [
    "## Introduction"
   ]
  },
  {
   "cell_type": "markdown",
   "id": "af798f0a",
   "metadata": {
    "id": "426af870-1bd7-4633-a375-d14718d46c0e"
   },
   "source": [
    "In this activity, you will use simple linear regression to explore the relationship between two continuous variables. To accomplish this, you will perform a complete simple linear regression analysis, which includes creating and fitting a model, checking model assumptions, analyzing model performance, interpreting model coefficients, and communicating results to stakeholders.\n",
    "\n",
    "For this activity, you are part of an analytics team that provides insights about marketing and sales. You have been assigned to a project that focuses on the use of influencer marketing, and you would like to explore the relationship between marketing promotional budgets and sales. The dataset provided includes information about marketing campaigns across TV, radio, and social media, as well as how much revenue in sales was generated from these campaigns. Based on this information, leaders in your company will make decisions about where to focus future marketing efforts, so it is critical to have a clear understanding of the relationship between the different types of marketing and the revenue they generate.\n",
    "\n",
    "This activity will develop your knowledge of linear regression and your skills evaluating regression results which will help prepare you for modeling to provide business recommendations in the future."
   ]
  },
  {
   "cell_type": "markdown",
   "id": "95ab43de",
   "metadata": {
    "id": "41aa3261-711b-49d1-9aad-89d483730fce"
   },
   "source": [
    "## Step 1: Imports"
   ]
  },
  {
   "cell_type": "markdown",
   "id": "186d269e",
   "metadata": {
    "id": "4969c482-4c0a-4988-b857-e849d9fc8c59"
   },
   "source": [
    "### Import packages"
   ]
  },
  {
   "cell_type": "markdown",
   "id": "0a48819d",
   "metadata": {
    "id": "b87989b3-e4b8-4559-be47-0b678e796d4c"
   },
   "source": [
    "Import relevant Python libraries and packages. In this activity, you will need to use `pandas`, `pyplot` from `matplotlib`, and `seaborn`."
   ]
  },
  {
   "cell_type": "code",
   "execution_count": 5,
   "id": "d720cdc0-94d7-497b-b410-7db03adfc6cd",
   "metadata": {},
   "outputs": [],
   "source": [
    "# Import packages\n",
    "# Import the relevant Python libraries and modules needed in this lab.\n",
    "\n",
    "### YOUR CODE HERE ###\n",
    "# Import libraries and packages\n",
    "\n",
    "# Import packages\n",
    "from google.cloud import storage\n",
    "\n",
    "import pandas as pd\n",
    "import matplotlib.pyplot as plt\n",
    "import seaborn as sns\n",
    "\n",
    "import warnings\n",
    "warnings.filterwarnings('ignore')\n",
    "\n",
    "#import numpy as np\n",
    "#import re\n",
    "#import pandas as pd\n",
    "#import matplotlib.pyplot as plt\n",
    "#%matplotlib inline\n",
    "#import seaborn as sns\n",
    "#from matplotlib import cm\n",
    "#from datetime import datetime\n",
    "#import glob\n",
    "#import os\n",
    "#from io import StringIO\n",
    "#from io import BytesIO\n",
    "#import json\n",
    "#import pickle\n",
    "#import six\n",
    "#import charset_normalizer\n",
    "#from wordcloud import WordCloud \n",
    "#from typing import List\n",
    "\n",
    "#from scipy import stats\n",
    "#import statsmodels.api as sm\n",
    "\n",
    "#sns.set()\n",
    "#pd.set_option('display.max_columns', None)\n",
    "#pd.set_option('display.max_rows', None)\n",
    "#pd.options.mode.chained_assignment = None\n",
    "\n",
    "#import warnings\n",
    "#warnings.filterwarnings('ignore')"
   ]
  },
  {
   "cell_type": "code",
   "execution_count": 10,
   "id": "f0de5d5e-e693-436a-8d52-671c8138f53c",
   "metadata": {},
   "outputs": [
    {
     "data": {
      "text/plain": [
       "['marketing/marketing_and_sales_data_evaluate_lr.csv']"
      ]
     },
     "execution_count": 10,
     "metadata": {},
     "output_type": "execute_result"
    }
   ],
   "source": [
    "#storage_client =  storage.Client.from_service_account_json('../heidless-jupyter-0-d2008100d98c.json')\n",
    "storage_client =  storage.Client()\n",
    "\n",
    "BUCKET_NAME = 'heidless-jupyter-bucket-0'\n",
    "\n",
    "bucket = storage_client.get_bucket(BUCKET_NAME)\n",
    "\n",
    "AllCSV = []\n",
    "my_prefix = 'marketing/'\n",
    "my_file = 'marketing_and_sales_data_evaluate_lr.csv'\n",
    "full_file = my_prefix + my_file\n",
    "#print(f'full_file: {full_file}')\n",
    "\n",
    "file_names = list(bucket.list_blobs(prefix=my_prefix))\n",
    "for file in file_names:\n",
    "    if(file.name != my_prefix):\n",
    "        if file.name == full_file:\n",
    "            AllCSV.append(file.name)\n",
    "#            print(file.name)\n",
    "AllCSV\n"
   ]
  },
  {
   "cell_type": "code",
   "execution_count": 7,
   "id": "16e98337-5a38-4c17-88c9-3532bb5e4ac7",
   "metadata": {},
   "outputs": [
    {
     "name": "stdout",
     "output_type": "stream",
     "text": [
      "marketing/marketing_and_sales_data_evaluate_lr.csv\n"
     ]
    },
    {
     "data": {
      "text/html": [
       "<div>\n",
       "<style scoped>\n",
       "    .dataframe tbody tr th:only-of-type {\n",
       "        vertical-align: middle;\n",
       "    }\n",
       "\n",
       "    .dataframe tbody tr th {\n",
       "        vertical-align: top;\n",
       "    }\n",
       "\n",
       "    .dataframe thead th {\n",
       "        text-align: right;\n",
       "    }\n",
       "</style>\n",
       "<table border=\"1\" class=\"dataframe\">\n",
       "  <thead>\n",
       "    <tr style=\"text-align: right;\">\n",
       "      <th></th>\n",
       "      <th>TV</th>\n",
       "      <th>Radio</th>\n",
       "      <th>Social_Media</th>\n",
       "      <th>Sales</th>\n",
       "    </tr>\n",
       "  </thead>\n",
       "  <tbody>\n",
       "    <tr>\n",
       "      <th>0</th>\n",
       "      <td>16.0</td>\n",
       "      <td>6.566231</td>\n",
       "      <td>2.907983</td>\n",
       "      <td>54.732757</td>\n",
       "    </tr>\n",
       "    <tr>\n",
       "      <th>1</th>\n",
       "      <td>13.0</td>\n",
       "      <td>9.237765</td>\n",
       "      <td>2.409567</td>\n",
       "      <td>46.677897</td>\n",
       "    </tr>\n",
       "    <tr>\n",
       "      <th>2</th>\n",
       "      <td>41.0</td>\n",
       "      <td>15.886446</td>\n",
       "      <td>2.913410</td>\n",
       "      <td>150.177829</td>\n",
       "    </tr>\n",
       "    <tr>\n",
       "      <th>3</th>\n",
       "      <td>83.0</td>\n",
       "      <td>30.020028</td>\n",
       "      <td>6.922304</td>\n",
       "      <td>298.246340</td>\n",
       "    </tr>\n",
       "    <tr>\n",
       "      <th>4</th>\n",
       "      <td>15.0</td>\n",
       "      <td>8.437408</td>\n",
       "      <td>1.405998</td>\n",
       "      <td>56.594181</td>\n",
       "    </tr>\n",
       "  </tbody>\n",
       "</table>\n",
       "</div>"
      ],
      "text/plain": [
       "     TV      Radio  Social_Media       Sales\n",
       "0  16.0   6.566231      2.907983   54.732757\n",
       "1  13.0   9.237765      2.409567   46.677897\n",
       "2  41.0  15.886446      2.913410  150.177829\n",
       "3  83.0  30.020028      6.922304  298.246340\n",
       "4  15.0   8.437408      1.405998   56.594181"
      ]
     },
     "execution_count": 7,
     "metadata": {},
     "output_type": "execute_result"
    }
   ],
   "source": [
    "# RUN THIS CELL TO IMPORT YOUR DATA.\n",
    "\n",
    "### YOUR CODE HERE ###\n",
    "#companies = pd.read_csv(\"Unicorn_Companies.csv\")\n",
    "\n",
    "# Display the first 10 rows of the data\n",
    "all_dataframes = []\n",
    "\n",
    "for csv in AllCSV:\n",
    "    blob = bucket.get_blob(csv)\n",
    "    if blob is not None and blob.exists(storage_client):\n",
    "        bt = blob.download_as_string()\n",
    "        s = str(bt, 'ISO-8859-1')\n",
    "        s = StringIO(s)\n",
    "        df = pd.read_csv(s, encoding='ISO-8859-1', low_memory=False)\n",
    "\n",
    "        #df['country'] = csv[0:2] # adding column 'country' so that each dataset could be identified uniquely\n",
    "        all_dataframes.append(df)\n",
    "        print(csv)\n",
    "    \n",
    "#all_dataframes[0].head() # index 0 to 9 for [CA, DE, FR, GB, IN, JP, KR, MX, RU, US] datasets\n",
    "\n",
    "data = all_dataframes[0]\n",
    "data.head()\n"
   ]
  },
  {
   "cell_type": "code",
   "execution_count": 2,
   "id": "e207f063",
   "metadata": {
    "id": "644593d5-ff0b-42fa-9b87-e9086648bcf4"
   },
   "outputs": [],
   "source": [
    "# Import pandas, pyplot from matplotlib, and seaborn.\n",
    "\n",
    "### YOUR CODE HERE ### \n",
    "# Import packages\n",
    "import pandas as pd\n",
    "import matplotlib.pyplot as plt\n",
    "import seaborn as sns\n",
    "\n",
    "import warnings\n",
    "warnings.filterwarnings('ignore')\n",
    "\n"
   ]
  },
  {
   "cell_type": "markdown",
   "id": "df174fd0",
   "metadata": {
    "id": "9d180c43-e9eb-4d2f-9359-751426158981"
   },
   "source": [
    "### Import the statsmodel module and the ols function\n",
    "\n",
    "Import the `statsmodels.api` Python module using its common abbreviation, `sm`, along with the `ols()` function from `statsmodels.formula.api`. To complete this, you will need to write the imports as well."
   ]
  },
  {
   "cell_type": "code",
   "execution_count": 3,
   "id": "34c1c4f3",
   "metadata": {
    "id": "bec8ecb1-662f-4019-bd94-4ccad632230a"
   },
   "outputs": [],
   "source": [
    "# Import the statsmodel module.\n",
    "\n",
    "# Import the ols function from statsmodels.\n",
    "\n",
    "### YOUR CODE HERE ###\n",
    "# Import the statsmodel module.\n",
    "import statsmodels.api as sm\n",
    "\n",
    "# Import the ols function from statsmodels.\n",
    "from statsmodels.formula.api import ols"
   ]
  },
  {
   "cell_type": "markdown",
   "id": "941dcae8",
   "metadata": {
    "id": "e5455705-39d2-4239-81cf-646526b08622"
   },
   "source": [
    "### Load the dataset"
   ]
  },
  {
   "cell_type": "markdown",
   "id": "e07c1d0b",
   "metadata": {
    "id": "d6d18627-c2e1-4f39-a0e0-cd32874b8cd0"
   },
   "source": [
    "`Pandas` was used to load the provided dataset `marketing_and_sales_data_evaluate_lr.csv` as `data`, now display the first five rows. This is a fictional dataset that was created for educational purposes. The variables in the dataset have been kept as is to suit the objectives of this activity. As shown in this cell, the dataset has been automatically loaded in for you. You do not need to download the .csv file, or provide more code, in order to access the dataset and proceed with this lab. Please continue with this activity by completing the following instructions."
   ]
  },
  {
   "cell_type": "code",
   "execution_count": 4,
   "id": "d02795f0",
   "metadata": {
    "id": "951b8666-f2f0-463d-b67c-f2ed8aa89f8b"
   },
   "outputs": [
    {
     "ename": "FileNotFoundError",
     "evalue": "[Errno 2] No such file or directory: 'marketing_and_sales_data_evaluate_lr.csv'",
     "output_type": "error",
     "traceback": [
      "\u001b[0;31m---------------------------------------------------------------------------\u001b[0m",
      "\u001b[0;31mFileNotFoundError\u001b[0m                         Traceback (most recent call last)",
      "Cell \u001b[0;32mIn[4], line 4\u001b[0m\n\u001b[1;32m      1\u001b[0m \u001b[38;5;66;03m# RUN THIS CELL TO IMPORT YOUR DATA. \u001b[39;00m\n\u001b[1;32m      2\u001b[0m \n\u001b[1;32m      3\u001b[0m \u001b[38;5;66;03m### YOUR CODE HERE ###\u001b[39;00m\n\u001b[0;32m----> 4\u001b[0m data \u001b[38;5;241m=\u001b[39m \u001b[43mpd\u001b[49m\u001b[38;5;241;43m.\u001b[39;49m\u001b[43mread_csv\u001b[49m\u001b[43m(\u001b[49m\u001b[38;5;124;43m'\u001b[39;49m\u001b[38;5;124;43mmarketing_and_sales_data_evaluate_lr.csv\u001b[39;49m\u001b[38;5;124;43m'\u001b[39;49m\u001b[43m)\u001b[49m\n\u001b[1;32m      6\u001b[0m \u001b[38;5;66;03m# Display the first five rows.\u001b[39;00m\n\u001b[1;32m      7\u001b[0m \n\u001b[1;32m      8\u001b[0m \u001b[38;5;66;03m### YOUR CODE HERE ### \u001b[39;00m\n",
      "File \u001b[0;32m/opt/conda/lib/python3.10/site-packages/pandas/io/parsers/readers.py:948\u001b[0m, in \u001b[0;36mread_csv\u001b[0;34m(filepath_or_buffer, sep, delimiter, header, names, index_col, usecols, dtype, engine, converters, true_values, false_values, skipinitialspace, skiprows, skipfooter, nrows, na_values, keep_default_na, na_filter, verbose, skip_blank_lines, parse_dates, infer_datetime_format, keep_date_col, date_parser, date_format, dayfirst, cache_dates, iterator, chunksize, compression, thousands, decimal, lineterminator, quotechar, quoting, doublequote, escapechar, comment, encoding, encoding_errors, dialect, on_bad_lines, delim_whitespace, low_memory, memory_map, float_precision, storage_options, dtype_backend)\u001b[0m\n\u001b[1;32m    935\u001b[0m kwds_defaults \u001b[38;5;241m=\u001b[39m _refine_defaults_read(\n\u001b[1;32m    936\u001b[0m     dialect,\n\u001b[1;32m    937\u001b[0m     delimiter,\n\u001b[0;32m   (...)\u001b[0m\n\u001b[1;32m    944\u001b[0m     dtype_backend\u001b[38;5;241m=\u001b[39mdtype_backend,\n\u001b[1;32m    945\u001b[0m )\n\u001b[1;32m    946\u001b[0m kwds\u001b[38;5;241m.\u001b[39mupdate(kwds_defaults)\n\u001b[0;32m--> 948\u001b[0m \u001b[38;5;28;01mreturn\u001b[39;00m \u001b[43m_read\u001b[49m\u001b[43m(\u001b[49m\u001b[43mfilepath_or_buffer\u001b[49m\u001b[43m,\u001b[49m\u001b[43m \u001b[49m\u001b[43mkwds\u001b[49m\u001b[43m)\u001b[49m\n",
      "File \u001b[0;32m/opt/conda/lib/python3.10/site-packages/pandas/io/parsers/readers.py:611\u001b[0m, in \u001b[0;36m_read\u001b[0;34m(filepath_or_buffer, kwds)\u001b[0m\n\u001b[1;32m    608\u001b[0m _validate_names(kwds\u001b[38;5;241m.\u001b[39mget(\u001b[38;5;124m\"\u001b[39m\u001b[38;5;124mnames\u001b[39m\u001b[38;5;124m\"\u001b[39m, \u001b[38;5;28;01mNone\u001b[39;00m))\n\u001b[1;32m    610\u001b[0m \u001b[38;5;66;03m# Create the parser.\u001b[39;00m\n\u001b[0;32m--> 611\u001b[0m parser \u001b[38;5;241m=\u001b[39m \u001b[43mTextFileReader\u001b[49m\u001b[43m(\u001b[49m\u001b[43mfilepath_or_buffer\u001b[49m\u001b[43m,\u001b[49m\u001b[43m \u001b[49m\u001b[38;5;241;43m*\u001b[39;49m\u001b[38;5;241;43m*\u001b[39;49m\u001b[43mkwds\u001b[49m\u001b[43m)\u001b[49m\n\u001b[1;32m    613\u001b[0m \u001b[38;5;28;01mif\u001b[39;00m chunksize \u001b[38;5;129;01mor\u001b[39;00m iterator:\n\u001b[1;32m    614\u001b[0m     \u001b[38;5;28;01mreturn\u001b[39;00m parser\n",
      "File \u001b[0;32m/opt/conda/lib/python3.10/site-packages/pandas/io/parsers/readers.py:1448\u001b[0m, in \u001b[0;36mTextFileReader.__init__\u001b[0;34m(self, f, engine, **kwds)\u001b[0m\n\u001b[1;32m   1445\u001b[0m     \u001b[38;5;28mself\u001b[39m\u001b[38;5;241m.\u001b[39moptions[\u001b[38;5;124m\"\u001b[39m\u001b[38;5;124mhas_index_names\u001b[39m\u001b[38;5;124m\"\u001b[39m] \u001b[38;5;241m=\u001b[39m kwds[\u001b[38;5;124m\"\u001b[39m\u001b[38;5;124mhas_index_names\u001b[39m\u001b[38;5;124m\"\u001b[39m]\n\u001b[1;32m   1447\u001b[0m \u001b[38;5;28mself\u001b[39m\u001b[38;5;241m.\u001b[39mhandles: IOHandles \u001b[38;5;241m|\u001b[39m \u001b[38;5;28;01mNone\u001b[39;00m \u001b[38;5;241m=\u001b[39m \u001b[38;5;28;01mNone\u001b[39;00m\n\u001b[0;32m-> 1448\u001b[0m \u001b[38;5;28mself\u001b[39m\u001b[38;5;241m.\u001b[39m_engine \u001b[38;5;241m=\u001b[39m \u001b[38;5;28;43mself\u001b[39;49m\u001b[38;5;241;43m.\u001b[39;49m\u001b[43m_make_engine\u001b[49m\u001b[43m(\u001b[49m\u001b[43mf\u001b[49m\u001b[43m,\u001b[49m\u001b[43m \u001b[49m\u001b[38;5;28;43mself\u001b[39;49m\u001b[38;5;241;43m.\u001b[39;49m\u001b[43mengine\u001b[49m\u001b[43m)\u001b[49m\n",
      "File \u001b[0;32m/opt/conda/lib/python3.10/site-packages/pandas/io/parsers/readers.py:1705\u001b[0m, in \u001b[0;36mTextFileReader._make_engine\u001b[0;34m(self, f, engine)\u001b[0m\n\u001b[1;32m   1703\u001b[0m     \u001b[38;5;28;01mif\u001b[39;00m \u001b[38;5;124m\"\u001b[39m\u001b[38;5;124mb\u001b[39m\u001b[38;5;124m\"\u001b[39m \u001b[38;5;129;01mnot\u001b[39;00m \u001b[38;5;129;01min\u001b[39;00m mode:\n\u001b[1;32m   1704\u001b[0m         mode \u001b[38;5;241m+\u001b[39m\u001b[38;5;241m=\u001b[39m \u001b[38;5;124m\"\u001b[39m\u001b[38;5;124mb\u001b[39m\u001b[38;5;124m\"\u001b[39m\n\u001b[0;32m-> 1705\u001b[0m \u001b[38;5;28mself\u001b[39m\u001b[38;5;241m.\u001b[39mhandles \u001b[38;5;241m=\u001b[39m \u001b[43mget_handle\u001b[49m\u001b[43m(\u001b[49m\n\u001b[1;32m   1706\u001b[0m \u001b[43m    \u001b[49m\u001b[43mf\u001b[49m\u001b[43m,\u001b[49m\n\u001b[1;32m   1707\u001b[0m \u001b[43m    \u001b[49m\u001b[43mmode\u001b[49m\u001b[43m,\u001b[49m\n\u001b[1;32m   1708\u001b[0m \u001b[43m    \u001b[49m\u001b[43mencoding\u001b[49m\u001b[38;5;241;43m=\u001b[39;49m\u001b[38;5;28;43mself\u001b[39;49m\u001b[38;5;241;43m.\u001b[39;49m\u001b[43moptions\u001b[49m\u001b[38;5;241;43m.\u001b[39;49m\u001b[43mget\u001b[49m\u001b[43m(\u001b[49m\u001b[38;5;124;43m\"\u001b[39;49m\u001b[38;5;124;43mencoding\u001b[39;49m\u001b[38;5;124;43m\"\u001b[39;49m\u001b[43m,\u001b[49m\u001b[43m \u001b[49m\u001b[38;5;28;43;01mNone\u001b[39;49;00m\u001b[43m)\u001b[49m\u001b[43m,\u001b[49m\n\u001b[1;32m   1709\u001b[0m \u001b[43m    \u001b[49m\u001b[43mcompression\u001b[49m\u001b[38;5;241;43m=\u001b[39;49m\u001b[38;5;28;43mself\u001b[39;49m\u001b[38;5;241;43m.\u001b[39;49m\u001b[43moptions\u001b[49m\u001b[38;5;241;43m.\u001b[39;49m\u001b[43mget\u001b[49m\u001b[43m(\u001b[49m\u001b[38;5;124;43m\"\u001b[39;49m\u001b[38;5;124;43mcompression\u001b[39;49m\u001b[38;5;124;43m\"\u001b[39;49m\u001b[43m,\u001b[49m\u001b[43m \u001b[49m\u001b[38;5;28;43;01mNone\u001b[39;49;00m\u001b[43m)\u001b[49m\u001b[43m,\u001b[49m\n\u001b[1;32m   1710\u001b[0m \u001b[43m    \u001b[49m\u001b[43mmemory_map\u001b[49m\u001b[38;5;241;43m=\u001b[39;49m\u001b[38;5;28;43mself\u001b[39;49m\u001b[38;5;241;43m.\u001b[39;49m\u001b[43moptions\u001b[49m\u001b[38;5;241;43m.\u001b[39;49m\u001b[43mget\u001b[49m\u001b[43m(\u001b[49m\u001b[38;5;124;43m\"\u001b[39;49m\u001b[38;5;124;43mmemory_map\u001b[39;49m\u001b[38;5;124;43m\"\u001b[39;49m\u001b[43m,\u001b[49m\u001b[43m \u001b[49m\u001b[38;5;28;43;01mFalse\u001b[39;49;00m\u001b[43m)\u001b[49m\u001b[43m,\u001b[49m\n\u001b[1;32m   1711\u001b[0m \u001b[43m    \u001b[49m\u001b[43mis_text\u001b[49m\u001b[38;5;241;43m=\u001b[39;49m\u001b[43mis_text\u001b[49m\u001b[43m,\u001b[49m\n\u001b[1;32m   1712\u001b[0m \u001b[43m    \u001b[49m\u001b[43merrors\u001b[49m\u001b[38;5;241;43m=\u001b[39;49m\u001b[38;5;28;43mself\u001b[39;49m\u001b[38;5;241;43m.\u001b[39;49m\u001b[43moptions\u001b[49m\u001b[38;5;241;43m.\u001b[39;49m\u001b[43mget\u001b[49m\u001b[43m(\u001b[49m\u001b[38;5;124;43m\"\u001b[39;49m\u001b[38;5;124;43mencoding_errors\u001b[39;49m\u001b[38;5;124;43m\"\u001b[39;49m\u001b[43m,\u001b[49m\u001b[43m \u001b[49m\u001b[38;5;124;43m\"\u001b[39;49m\u001b[38;5;124;43mstrict\u001b[39;49m\u001b[38;5;124;43m\"\u001b[39;49m\u001b[43m)\u001b[49m\u001b[43m,\u001b[49m\n\u001b[1;32m   1713\u001b[0m \u001b[43m    \u001b[49m\u001b[43mstorage_options\u001b[49m\u001b[38;5;241;43m=\u001b[39;49m\u001b[38;5;28;43mself\u001b[39;49m\u001b[38;5;241;43m.\u001b[39;49m\u001b[43moptions\u001b[49m\u001b[38;5;241;43m.\u001b[39;49m\u001b[43mget\u001b[49m\u001b[43m(\u001b[49m\u001b[38;5;124;43m\"\u001b[39;49m\u001b[38;5;124;43mstorage_options\u001b[39;49m\u001b[38;5;124;43m\"\u001b[39;49m\u001b[43m,\u001b[49m\u001b[43m \u001b[49m\u001b[38;5;28;43;01mNone\u001b[39;49;00m\u001b[43m)\u001b[49m\u001b[43m,\u001b[49m\n\u001b[1;32m   1714\u001b[0m \u001b[43m\u001b[49m\u001b[43m)\u001b[49m\n\u001b[1;32m   1715\u001b[0m \u001b[38;5;28;01massert\u001b[39;00m \u001b[38;5;28mself\u001b[39m\u001b[38;5;241m.\u001b[39mhandles \u001b[38;5;129;01mis\u001b[39;00m \u001b[38;5;129;01mnot\u001b[39;00m \u001b[38;5;28;01mNone\u001b[39;00m\n\u001b[1;32m   1716\u001b[0m f \u001b[38;5;241m=\u001b[39m \u001b[38;5;28mself\u001b[39m\u001b[38;5;241m.\u001b[39mhandles\u001b[38;5;241m.\u001b[39mhandle\n",
      "File \u001b[0;32m/opt/conda/lib/python3.10/site-packages/pandas/io/common.py:863\u001b[0m, in \u001b[0;36mget_handle\u001b[0;34m(path_or_buf, mode, encoding, compression, memory_map, is_text, errors, storage_options)\u001b[0m\n\u001b[1;32m    858\u001b[0m \u001b[38;5;28;01melif\u001b[39;00m \u001b[38;5;28misinstance\u001b[39m(handle, \u001b[38;5;28mstr\u001b[39m):\n\u001b[1;32m    859\u001b[0m     \u001b[38;5;66;03m# Check whether the filename is to be opened in binary mode.\u001b[39;00m\n\u001b[1;32m    860\u001b[0m     \u001b[38;5;66;03m# Binary mode does not support 'encoding' and 'newline'.\u001b[39;00m\n\u001b[1;32m    861\u001b[0m     \u001b[38;5;28;01mif\u001b[39;00m ioargs\u001b[38;5;241m.\u001b[39mencoding \u001b[38;5;129;01mand\u001b[39;00m \u001b[38;5;124m\"\u001b[39m\u001b[38;5;124mb\u001b[39m\u001b[38;5;124m\"\u001b[39m \u001b[38;5;129;01mnot\u001b[39;00m \u001b[38;5;129;01min\u001b[39;00m ioargs\u001b[38;5;241m.\u001b[39mmode:\n\u001b[1;32m    862\u001b[0m         \u001b[38;5;66;03m# Encoding\u001b[39;00m\n\u001b[0;32m--> 863\u001b[0m         handle \u001b[38;5;241m=\u001b[39m \u001b[38;5;28;43mopen\u001b[39;49m\u001b[43m(\u001b[49m\n\u001b[1;32m    864\u001b[0m \u001b[43m            \u001b[49m\u001b[43mhandle\u001b[49m\u001b[43m,\u001b[49m\n\u001b[1;32m    865\u001b[0m \u001b[43m            \u001b[49m\u001b[43mioargs\u001b[49m\u001b[38;5;241;43m.\u001b[39;49m\u001b[43mmode\u001b[49m\u001b[43m,\u001b[49m\n\u001b[1;32m    866\u001b[0m \u001b[43m            \u001b[49m\u001b[43mencoding\u001b[49m\u001b[38;5;241;43m=\u001b[39;49m\u001b[43mioargs\u001b[49m\u001b[38;5;241;43m.\u001b[39;49m\u001b[43mencoding\u001b[49m\u001b[43m,\u001b[49m\n\u001b[1;32m    867\u001b[0m \u001b[43m            \u001b[49m\u001b[43merrors\u001b[49m\u001b[38;5;241;43m=\u001b[39;49m\u001b[43merrors\u001b[49m\u001b[43m,\u001b[49m\n\u001b[1;32m    868\u001b[0m \u001b[43m            \u001b[49m\u001b[43mnewline\u001b[49m\u001b[38;5;241;43m=\u001b[39;49m\u001b[38;5;124;43m\"\u001b[39;49m\u001b[38;5;124;43m\"\u001b[39;49m\u001b[43m,\u001b[49m\n\u001b[1;32m    869\u001b[0m \u001b[43m        \u001b[49m\u001b[43m)\u001b[49m\n\u001b[1;32m    870\u001b[0m     \u001b[38;5;28;01melse\u001b[39;00m:\n\u001b[1;32m    871\u001b[0m         \u001b[38;5;66;03m# Binary mode\u001b[39;00m\n\u001b[1;32m    872\u001b[0m         handle \u001b[38;5;241m=\u001b[39m \u001b[38;5;28mopen\u001b[39m(handle, ioargs\u001b[38;5;241m.\u001b[39mmode)\n",
      "\u001b[0;31mFileNotFoundError\u001b[0m: [Errno 2] No such file or directory: 'marketing_and_sales_data_evaluate_lr.csv'"
     ]
    }
   ],
   "source": [
    "# RUN THIS CELL TO IMPORT YOUR DATA. \n",
    "\n",
    "### YOUR CODE HERE ###\n",
    "data = pd.read_csv('marketing_and_sales_data_evaluate_lr.csv')\n",
    "\n",
    "# Display the first five rows.\n",
    "\n",
    "### YOUR CODE HERE ### "
   ]
  },
  {
   "cell_type": "markdown",
   "id": "e7c13625",
   "metadata": {
    "id": "d435566f-1396-450d-b77c-855cbba0c877"
   },
   "source": [
    "## Step 2: Data exploration"
   ]
  },
  {
   "cell_type": "markdown",
   "id": "69f5c4df",
   "metadata": {
    "id": "2a5dfb3b-72b5-4d83-8458-5fae32b1c565"
   },
   "source": [
    "### Familiarize yourself with the data's features\n",
    "\n",
    "Start with an exploratory data analysis to familiarize yourself with the data and prepare it for modeling.\n",
    "\n",
    "The features in the data are:\n",
    "* TV promotion budget (in millions of dollars)\n",
    "* Social media promotion budget (in millions of dollars)\n",
    "* Radio promotion budget (in millions of dollars)\n",
    "* Sales (in millions of dollars)\n",
    "\n",
    "Each row corresponds to an independent marketing promotion where the business invests in `TV`, `Social_Media`, and `Radio` promotions to increase `Sales`.\n",
    "\n",
    "The business would like to determine which feature most strongly predicts `Sales` so they have a better understanding of what promotions they should invest in in the future. To accomplish this, you'll construct a simple linear regression model that predicts sales using a single independent variable. "
   ]
  },
  {
   "cell_type": "markdown",
   "id": "b98719d5",
   "metadata": {
    "id": "8b5dd65e-efb3-4cc6-a421-93aff15534ff"
   },
   "source": [
    "**Question:** What are some reasons for conducting an EDA before constructing a simple linear regression model?"
   ]
  },
  {
   "cell_type": "markdown",
   "id": "f0cfa709",
   "metadata": {
    "id": "_J_65hWVqArU"
   },
   "source": [
    "[Write your response here. Double-click (or enter) to edit.]"
   ]
  },
  {
   "cell_type": "markdown",
   "id": "ed6f4241",
   "metadata": {
    "id": "ef204d48-279c-4ebd-a6ac-69eb0471547d"
   },
   "source": [
    "### Explore the data size"
   ]
  },
  {
   "cell_type": "markdown",
   "id": "a62800df",
   "metadata": {
    "id": "96545bcf-c91e-475d-85a8-1043739cbd37"
   },
   "source": [
    "Calculate the number of rows and columns in the data."
   ]
  },
  {
   "cell_type": "code",
   "execution_count": null,
   "id": "1ec70b58",
   "metadata": {
    "id": "d76fc785-745c-43ab-938d-80cd9f421a1d"
   },
   "outputs": [],
   "source": [
    "# Display the shape of the data as a tuple (rows, columns).\n",
    "\n",
    "### YOUR CODE HERE ### "
   ]
  },
  {
   "cell_type": "markdown",
   "id": "5c6331d4",
   "metadata": {
    "id": "daf4ec75-4989-4bde-b6fd-bdf40be6745d",
    "tags": []
   },
   "source": [
    "<details>\n",
    "<summary><h4><strong>Hint 1</strong></h4></summary>\n",
    "\n",
    "There is an attribute of a pandas DataFrame that returns the dimension of the DataFrame.\n",
    "\n",
    "</details>"
   ]
  },
  {
   "cell_type": "markdown",
   "id": "ee6550f7",
   "metadata": {
    "id": "M-Z5QSSyXz58"
   },
   "source": [
    "<details>\n",
    "<summary><h4><strong>Hint 2</strong></h4></summary>\n",
    "\n",
    "The `shape` attribute of a DataFrame returns a tuple with the array dimensions.\n",
    "\n",
    "</details>"
   ]
  },
  {
   "cell_type": "markdown",
   "id": "c6eea32b",
   "metadata": {
    "id": "RA0I8vo_Xz8e"
   },
   "source": [
    "<details>\n",
    "<summary><h4><strong>Hint 3</strong></h4></summary>\n",
    "\n",
    "Use `data.shape`, which returns a tuple with the number of rows and columns.\n",
    "\n",
    "</details>"
   ]
  },
  {
   "cell_type": "markdown",
   "id": "f60ac19b",
   "metadata": {
    "id": "2eb826f9-d756-4db4-94bd-852818f55146"
   },
   "source": [
    "### Explore the independent variables"
   ]
  },
  {
   "cell_type": "markdown",
   "id": "5d2e9ff2",
   "metadata": {
    "id": "3b3bd91f-3cd8-4c17-aebb-1b7395410dfa"
   },
   "source": [
    "There are three continuous independent variables: `TV`, `Radio`, and `Social_Media`. To understand how heavily the business invests in each promotion type, use `describe()` to generate descriptive statistics for these three variables."
   ]
  },
  {
   "cell_type": "code",
   "execution_count": null,
   "id": "5be7e9f4",
   "metadata": {
    "id": "91c83885-bc0a-4451-8e6b-541d34afe0d3"
   },
   "outputs": [],
   "source": [
    "# Generate descriptive statistics about TV, Radio, and Social_Media.\n",
    "\n",
    "### YOUR CODE HERE ###"
   ]
  },
  {
   "cell_type": "markdown",
   "id": "fa1d6caa",
   "metadata": {
    "id": "4f3684c5-c5e6-435e-b9b4-6dabb73d1599"
   },
   "source": [
    "<details>\n",
    "<summary><h4><strong>Hint 1</strong></h4></summary>\n",
    "\n",
    "Subset `data` to only include the columns of interest.\n",
    "\n",
    "</details>"
   ]
  },
  {
   "cell_type": "markdown",
   "id": "a9ad800b",
   "metadata": {
    "id": "d8a4cd1b-ac43-4649-9df9-7cc28d83457a"
   },
   "source": [
    "<details>\n",
    "<summary><h4><strong>Hint 2</strong></h4></summary>\n",
    "\n",
    "Select the columns of interest using `data[['TV','Radio','Social_Media']]`.\n",
    "\n",
    "</details>"
   ]
  },
  {
   "cell_type": "markdown",
   "id": "bb1d9b6d",
   "metadata": {
    "id": "a8adb098-bf3d-4e99-9924-657b501e221c",
    "tags": []
   },
   "source": [
    "<details>\n",
    "<summary><h4><strong>Hint 3</strong></h4></summary>\n",
    "\n",
    "Apply `describe()` to the data subset.\n",
    "\n",
    "</details>"
   ]
  },
  {
   "cell_type": "markdown",
   "id": "77cce332",
   "metadata": {
    "id": "c217f198-1d89-454f-aa82-1212b04098a6"
   },
   "source": [
    "### Explore the dependent variable"
   ]
  },
  {
   "cell_type": "markdown",
   "id": "089bbbce",
   "metadata": {
    "id": "ddb1fe90-eabe-41d7-86e8-84c1fd3c6ad5"
   },
   "source": [
    "Before fitting the model, ensure the `Sales` for each promotion (i.e., row) is present. If the `Sales` in a row is missing, that row isn't of much value to the simple linear regression model.\n",
    "\n",
    "Display the percentage of missing values in the `Sales` column in the DataFrame `data`."
   ]
  },
  {
   "cell_type": "code",
   "execution_count": null,
   "id": "0d2dc893",
   "metadata": {
    "id": "c2995bd8-0439-4072-b593-56a019a9fe5e"
   },
   "outputs": [],
   "source": [
    "# Calculate the average missing rate in the sales column.\n",
    "\n",
    "### YOUR CODE HERE ###\n",
    "\n",
    "# Convert the missing_sales from a decimal to a percentage and round to 2 decimal place.\n",
    "\n",
    "### YOUR CODE HERE ###\n",
    "\n",
    "# Display the results (missing_sales must be converted to a string to be concatenated in the print statement).\n",
    "\n",
    "### YOUR CODE HERE ###"
   ]
  },
  {
   "cell_type": "markdown",
   "id": "e9755f20",
   "metadata": {
    "id": "L3NA6P9ScubV"
   },
   "source": [
    "**Question:** What do you observe about the percentage of missing values in the `Sales` column?"
   ]
  },
  {
   "cell_type": "markdown",
   "id": "8e78626b",
   "metadata": {
    "id": "0Emn_vPfqO_a"
   },
   "source": [
    "[Write your response here. Double-click (or enter) to edit.]"
   ]
  },
  {
   "cell_type": "markdown",
   "id": "714f16f9",
   "metadata": {
    "id": "c2APLI94c6t8"
   },
   "source": [
    "### Remove the missing data"
   ]
  },
  {
   "cell_type": "markdown",
   "id": "4110fdf6",
   "metadata": {
    "id": "6aba5913-1095-44c1-bc69-6e8ee2b79d4b"
   },
   "source": [
    "Remove all rows in the data from which `Sales` is missing."
   ]
  },
  {
   "cell_type": "code",
   "execution_count": null,
   "id": "b9119df8",
   "metadata": {
    "id": "dfe958b9-d4f3-41f2-830e-1d61035c3c66"
   },
   "outputs": [],
   "source": [
    "# Subset the data to include rows where Sales is present.\n",
    "\n",
    "### YOUR CODE HERE ### "
   ]
  },
  {
   "cell_type": "markdown",
   "id": "c4e764b0",
   "metadata": {
    "id": "1b12ff5c-4a70-4b79-8a7d-4af6e5f5ccb7"
   },
   "source": [
    "<details>\n",
    "<summary><h4><strong>Hint 1</strong></h4></summary>\n",
    "\n",
    "Refer to [the content about removing missing values from a DataFrame](https://www.coursera.org/learn/go-beyond-the-numbers-translate-data-into-insight/lecture/rUXcJ/work-with-missing-data-in-a-python-notebook).\n",
    "\n",
    "</details>\n"
   ]
  },
  {
   "cell_type": "markdown",
   "id": "a8120af0",
   "metadata": {
    "id": "2b5bd1ce-b9e4-4956-85bc-29ebe8496b4a",
    "jp-MarkdownHeadingCollapsed": true,
    "tags": []
   },
   "source": [
    "<details>\n",
    "<summary><h4><strong>Hint 2</strong></h4></summary>\n",
    "\n",
    "The `dropna()` function may be helpful.\n",
    "\n",
    "</details>\n"
   ]
  },
  {
   "cell_type": "markdown",
   "id": "8f753180",
   "metadata": {
    "id": "c6945aab-50a8-42ca-a128-00127cba4a54"
   },
   "source": [
    "<details>\n",
    "<summary><h4><strong>Hint 3</strong></h4></summary>\n",
    "\n",
    "Apply `dropna()` to `data` and use the `subset` and `axis` arguments to drop rows where `Sales` is missing. \n",
    "\n",
    "</details>\n"
   ]
  },
  {
   "cell_type": "markdown",
   "id": "2e44bae9",
   "metadata": {
    "id": "4357fa5b-d964-496d-9fbd-45f1cad52c8b"
   },
   "source": [
    "### Visualize the sales distribution"
   ]
  },
  {
   "cell_type": "markdown",
   "id": "31ac143e",
   "metadata": {
    "id": "dab1bb83-db2b-424b-86a6-8edcbe37fe35"
   },
   "source": [
    "Create a histogram to visualize the distribution of `Sales`."
   ]
  },
  {
   "cell_type": "code",
   "execution_count": null,
   "id": "d762ed8d",
   "metadata": {
    "id": "72f6a140-80fa-47d6-8258-3685384799d0"
   },
   "outputs": [],
   "source": [
    "# Create a histogram of the Sales.\n",
    "\n",
    "### YOUR CODE HERE ### \n",
    "\n",
    "# Add a title\n"
   ]
  },
  {
   "cell_type": "markdown",
   "id": "63239fe3",
   "metadata": {
    "id": "c7c89344-d8bc-464f-8a8c-94d10b2e0279"
   },
   "source": [
    "<details>\n",
    "<summary><h4><strong>Hint 1</strong></h4></summary>\n",
    "\n",
    "Use the function in the `seaborn` library that allows you to create a histogram.\n",
    "\n",
    "</details>\n"
   ]
  },
  {
   "cell_type": "markdown",
   "id": "7b0ab688",
   "metadata": {
    "id": "fe19df25-2d55-4b75-ba36-9a8d2e1ac512"
   },
   "source": [
    "<details>\n",
    "<summary><h4><strong>Hint 2</strong></h4></summary>\n",
    "\n",
    "Call the `histplot()` function from the `seaborn` library and pass in the `Sales` column as the argument.\n",
    "\n",
    "</details>\n"
   ]
  },
  {
   "cell_type": "markdown",
   "id": "9b8a5ce7",
   "metadata": {
    "id": "6cd5717a-d4d8-45e7-81f6-310775032f77"
   },
   "source": [
    "<details>\n",
    "<summary><h4><strong>Hint 3</strong></h4></summary>\n",
    "\n",
    "To get a specific column from a DataFrame, use a pair of single square brackets and place the name of the column, as a string, in the brackets. Be sure that the spelling, including case, matches the data exactly.\n",
    "\n",
    "</details>\n"
   ]
  },
  {
   "cell_type": "markdown",
   "id": "6216b74f",
   "metadata": {
    "id": "u2Ieou8sesSn"
   },
   "source": [
    "**Question:** What do you observe about the distribution of `Sales` from the preceding histogram?"
   ]
  },
  {
   "cell_type": "markdown",
   "id": "e72e5b9c",
   "metadata": {
    "id": "NfLR4XFz2tKn"
   },
   "source": [
    "[Write your response here. Double-click (or enter) to edit.]"
   ]
  },
  {
   "cell_type": "markdown",
   "id": "38f18ea2",
   "metadata": {
    "id": "eb890ea6-bb5e-47d2-bae7-8f2dffb25019"
   },
   "source": [
    "## Step 3: Model building"
   ]
  },
  {
   "cell_type": "markdown",
   "id": "a4158096",
   "metadata": {
    "id": "e174a2bc-4b4f-4a64-bda7-97e1e6c41138"
   },
   "source": [
    "Create a pairplot to visualize the relationships between pairs of variables in the data. You will use this to visually determine which variable has the strongest linear relationship with `Sales`. This will help you select the X variable for the simple linear regression."
   ]
  },
  {
   "cell_type": "code",
   "execution_count": 1,
   "id": "9fdf3c0a",
   "metadata": {
    "id": "85a9b84a-f6db-41e1-9e03-ecd956c733b3"
   },
   "outputs": [],
   "source": [
    "# Create a pairplot of the data.\n",
    "\n",
    "### YOUR CODE HERE ### "
   ]
  },
  {
   "cell_type": "markdown",
   "id": "b6b4a880",
   "metadata": {
    "id": "2212ae8f-5147-44e7-92da-3a296293a2bb"
   },
   "source": [
    "<details>\n",
    "<summary><h4><strong>Hint 1</strong></h4></summary>\n",
    "\n",
    "Refer to [the video where creating a pairplot is demonstrated](https://www.coursera.org/learn/regression-analysis-simplify-complex-data-relationships/lecture/dnjWm/explore-linear-regression-with-python).\n",
    "\n",
    "</details>\n"
   ]
  },
  {
   "cell_type": "markdown",
   "id": "91106951",
   "metadata": {
    "id": "2e3676d5-4e82-4ce8-b7ab-d5e19e16cad6"
   },
   "source": [
    "<details>\n",
    "<summary><h4><strong>Hint 2</strong></h4></summary>\n",
    "\n",
    "Use the function in the `seaborn` library that allows you to create a pairplot that shows the relationships between variables in the data.\n",
    "\n",
    "</details>"
   ]
  },
  {
   "cell_type": "markdown",
   "id": "7ddeba2e",
   "metadata": {
    "id": "eb1eba0f-95ea-42d5-a1af-3684a8740bb5"
   },
   "source": [
    "<details>\n",
    "<summary><h4><strong>Hint 3</strong></h4></summary>\n",
    "\n",
    "Use the [`pairplot()`](https://seaborn.pydata.org/generated/seaborn.pairplot.html) function from the `seaborn` library and pass in the entire DataFrame.\n",
    "\n",
    "</details>\n"
   ]
  },
  {
   "cell_type": "markdown",
   "id": "d7201aa2",
   "metadata": {
    "id": "556b0ac2-117e-47d7-bb27-6f4c35533036",
    "tags": []
   },
   "source": [
    "**Question:** Which variable did you select for X? Why?"
   ]
  },
  {
   "cell_type": "markdown",
   "id": "4ae2e4f3",
   "metadata": {
    "id": "R37iVwNlqZOG"
   },
   "source": [
    "[Write your response here. Double-click (or enter) to edit.]"
   ]
  },
  {
   "cell_type": "markdown",
   "id": "5d922179",
   "metadata": {
    "id": "12a0a0e3-ff86-4139-8748-b73485332c65"
   },
   "source": [
    "### Build and fit the model"
   ]
  },
  {
   "cell_type": "markdown",
   "id": "0561951a",
   "metadata": {
    "id": "d7c56c63-129f-4623-a0c8-60aa9ecf906e"
   },
   "source": [
    "Replace the comment with the correct code. Use the variable you chose for `X` for building the model."
   ]
  },
  {
   "cell_type": "code",
   "execution_count": null,
   "id": "bb4ca9b9",
   "metadata": {
    "id": "e75d6c38-7d49-4387-8935-a39dc6d27af6"
   },
   "outputs": [],
   "source": [
    "# Define the OLS formula.\n",
    "\n",
    "### YOUR CODE HERE ### \n",
    "\n",
    "# Create an OLS model.\n",
    "\n",
    "### YOUR CODE HERE ### \n",
    "\n",
    "# Fit the model.\n",
    "\n",
    "### YOUR CODE HERE ### \n",
    "\n",
    "# Save the results summary.\n",
    "\n",
    "### YOUR CODE HERE ### \n",
    "\n",
    "# Display the model results.\n",
    "\n",
    "### YOUR CODE HERE ### "
   ]
  },
  {
   "cell_type": "markdown",
   "id": "71e0c703",
   "metadata": {},
   "source": [
    "<details>\n",
    "<summary><h4><strong>Hint 1</strong></h4></summary>\n",
    "\n",
    "Refer to [the video where an OLS model is defined and fit](https://www.coursera.org/learn/regression-analysis-simplify-complex-data-relationships/lecture/Gi8Dl/ordinary-least-squares-estimation).\n",
    "\n",
    "</details>"
   ]
  },
  {
   "cell_type": "markdown",
   "id": "bfab8014",
   "metadata": {
    "id": "3de87887-276e-456a-88e8-8bbc2095205d"
   },
   "source": [
    "<details>\n",
    "<summary><h4><strong>Hint 2</strong></h4></summary>\n",
    "\n",
    "Use the [`ols()`](https://www.statsmodels.org/devel/generated/statsmodels.formula.api.ols.html) function imported earlier— which creates a model from a formula and DataFrame—to create an OLS model.\n",
    "\n",
    "</details>\n"
   ]
  },
  {
   "cell_type": "markdown",
   "id": "39bf5b1e",
   "metadata": {
    "id": "36a90f22-c408-4abf-ba19-31282e41ea3c"
   },
   "source": [
    "<details>\n",
    "<summary><h4><strong>Hint 3</strong></h4></summary>\n",
    "\n",
    "Replace the `X` in `'Sales ~ X'` with the independent feature you determined has the strongest linear relationship with `Sales`. Be sure the string name for `X` exactly matches the column's name in `data`.\n",
    "\n",
    "</details>"
   ]
  },
  {
   "cell_type": "markdown",
   "id": "5a50cc2a",
   "metadata": {
    "id": "9bd4fe8c-823d-4e76-b00e-4a56b706a79f",
    "jp-MarkdownHeadingCollapsed": true,
    "tags": []
   },
   "source": [
    "<details>\n",
    "<summary><h4><strong>Hint 4</strong></h4></summary>\n",
    "\n",
    "Obtain the model results summary using `model.summary()` and save it. Be sure to fit the model before saving the results summary. \n",
    "\n",
    "</details>"
   ]
  },
  {
   "cell_type": "markdown",
   "id": "240f0d0b",
   "metadata": {
    "id": "4f1731f8-4fc0-4177-b0ee-c41415b283d8"
   },
   "source": [
    "### Check model assumptions"
   ]
  },
  {
   "cell_type": "markdown",
   "id": "25904b7a",
   "metadata": {
    "id": "d10244e2-3536-4049-88d4-0811a8db1475"
   },
   "source": [
    "To justify using simple linear regression, check that the four linear regression assumptions are not violated. These assumptions are:\n",
    "\n",
    "* Linearity\n",
    "* Independent Observations\n",
    "* Normality\n",
    "* Homoscedasticity"
   ]
  },
  {
   "cell_type": "markdown",
   "id": "396decda",
   "metadata": {
    "id": "b88fa3ea-4b21-43a8-b8b9-3f892ac4c757"
   },
   "source": [
    "### Model assumption: Linearity"
   ]
  },
  {
   "cell_type": "markdown",
   "id": "15c3ee9c",
   "metadata": {
    "id": "3e4d9ae2-4495-4437-9756-a4a3a301b400"
   },
   "source": [
    "The linearity assumption requires a linear relationship between the independent and dependent variables. Check this assumption by creating a scatterplot comparing the independent variable with the dependent variable. \n",
    "\n",
    "Create a scatterplot comparing the X variable you selected with the dependent variable."
   ]
  },
  {
   "cell_type": "code",
   "execution_count": null,
   "id": "0855de2b",
   "metadata": {
    "id": "62cffd02-3a47-475f-987c-9afe8322b7e5"
   },
   "outputs": [],
   "source": [
    "# Create a scatterplot comparing X and Sales (Y).\n",
    "\n",
    "### YOUR CODE HERE ### "
   ]
  },
  {
   "cell_type": "markdown",
   "id": "66cff841",
   "metadata": {
    "id": "b7129d8c-98b4-41a4-8e08-5efaf1234da0"
   },
   "source": [
    "<details>\n",
    "<summary><h4><strong>Hint 1</strong></h4></summary>\n",
    "\n",
    "Use the function in the `seaborn` library that allows you to create a scatterplot to display the values for two variables.\n",
    "\n",
    "</details>"
   ]
  },
  {
   "cell_type": "markdown",
   "id": "9b9c83ba",
   "metadata": {
    "id": "de28b6fb-3ba1-4636-918b-897ea4ac4d5d"
   },
   "source": [
    "<details>\n",
    "<summary><h4><strong>Hint 2</strong></h4></summary>\n",
    "\n",
    "Use the [`scatterplot()`](https://seaborn.pydata.org/generated/seaborn.scatterplot.html) function in `seaborn`.\n",
    "\n",
    "</details>"
   ]
  },
  {
   "cell_type": "markdown",
   "id": "39637c81",
   "metadata": {
    "id": "d2eafc26-9fc2-4a65-a31d-93f9b6956dd5"
   },
   "source": [
    "<details>\n",
    "<summary><h4><strong>Hint 3</strong></h4></summary>\n",
    "\n",
    "Pass the X and Y variables you chose for your simple linear regression as the arguments for `x` and `y`, respectively, in the `scatterplot()` function.\n",
    "\n",
    "</details>"
   ]
  },
  {
   "cell_type": "markdown",
   "id": "804e6ddd",
   "metadata": {
    "id": "80e6fd4a-d2ea-4334-aeac-d22f65d667f8"
   },
   "source": [
    "**QUESTION:** Is the linearity assumption met?"
   ]
  },
  {
   "cell_type": "markdown",
   "id": "cf24ee42",
   "metadata": {
    "id": "XSY_avAXqv-U"
   },
   "source": [
    "[Write your response here. Double-click (or enter) to edit.]"
   ]
  },
  {
   "cell_type": "markdown",
   "id": "a097d251",
   "metadata": {
    "id": "3bea0ccd-c395-4aa9-bae5-eb1443f0613d"
   },
   "source": [
    "### Model assumption: Independence"
   ]
  },
  {
   "cell_type": "markdown",
   "id": "690b625d",
   "metadata": {
    "id": "e7e46fbc-c1c9-41eb-942c-57c779394b50"
   },
   "source": [
    "The **independent observation assumption** states that each observation in the dataset is independent. As each marketing promotion (i.e., row) is independent from one another, the independence assumption is not violated."
   ]
  },
  {
   "cell_type": "markdown",
   "id": "c77b68c0",
   "metadata": {
    "id": "7b92ef9b-0274-476e-95cd-17855e14cef3"
   },
   "source": [
    "### Model assumption: Normality"
   ]
  },
  {
   "cell_type": "markdown",
   "id": "644d1bd9",
   "metadata": {
    "id": "50c674e6-7379-4f3f-bf1c-5a00d7d857a4"
   },
   "source": [
    "The normality assumption states that the errors are normally distributed.\n",
    "\n",
    "Create two plots to check this assumption:\n",
    "\n",
    "* **Plot 1**: Histogram of the residuals\n",
    "* **Plot 2**: Q-Q plot of the residuals"
   ]
  },
  {
   "cell_type": "code",
   "execution_count": null,
   "id": "693e961e",
   "metadata": {
    "id": "545b252d-e73c-4278-adb7-bedcdbb31872"
   },
   "outputs": [],
   "source": [
    "# Calculate the residuals.\n",
    "\n",
    "### YOUR CODE HERE ### \n",
    "\n",
    "# Create a 1x2 plot figures.\n",
    "\n",
    "# Create a histogram with the residuals. \n",
    "\n",
    "### YOUR CODE HERE ### \n",
    "\n",
    "# Set the x label of the residual plot.\n",
    "\n",
    "# Set the title of the residual plot.\n",
    "\n",
    "# Create a Q-Q plot of the residuals.\n",
    "\n",
    "### YOUR CODE HERE ### \n",
    "\n",
    "# Set the title of the Q-Q plot.\n",
    "\n",
    "# Use matplotlib's tight_layout() function to add space between plots for a cleaner appearance.\n",
    "\n",
    "# Show the plot."
   ]
  },
  {
   "cell_type": "markdown",
   "id": "0a020262",
   "metadata": {
    "id": "5a6cb722-62c0-46fe-aaf8-6fe81d57e18c"
   },
   "source": [
    "<details>\n",
    "<summary><h4><strong>Hint 1</strong></h4></summary>\n",
    "\n",
    "Access the residuals from the fit model object.\n",
    "\n",
    "</details>"
   ]
  },
  {
   "cell_type": "markdown",
   "id": "6625b12f",
   "metadata": {
    "id": "6e1f6438-1c8b-40f8-bcd8-5a6212a078b9"
   },
   "source": [
    "<details>\n",
    "<summary><h4><strong>Hint 2</strong></h4></summary>\n",
    "\n",
    "Use `model.resid` to get the residuals from the fit model.\n",
    "\n",
    "</details>"
   ]
  },
  {
   "cell_type": "markdown",
   "id": "c96869e5",
   "metadata": {
    "id": "9fd4e3e0-de3b-4525-a63e-411e5ba0a7f2"
   },
   "source": [
    "<details>\n",
    "<summary><h4><strong>Hint 3</strong></h4></summary>\n",
    "\n",
    "For the histogram, pass the residuals as the first argument in the `seaborn` `histplot()` function.\n",
    "    \n",
    "For the Q-Q plot, pass the residuals as the first argument in the `statsmodels` [`qqplot()`](https://www.statsmodels.org/stable/generated/statsmodels.graphics.gofplots.qqplot.html) function.\n",
    "\n",
    "</details>"
   ]
  },
  {
   "cell_type": "markdown",
   "id": "5f41dd78",
   "metadata": {
    "id": "efe285b4-a830-401a-b85b-d7613c4ff57c",
    "tags": []
   },
   "source": [
    "**Question:** Is the normality assumption met?"
   ]
  },
  {
   "cell_type": "markdown",
   "id": "78e6361d",
   "metadata": {
    "id": "_cQqNoyvrAdx"
   },
   "source": [
    "[Write your response here. Double-click (or enter) to edit.]"
   ]
  },
  {
   "cell_type": "markdown",
   "id": "fb35ba03",
   "metadata": {
    "id": "932fa333-4b9e-4a0f-940a-03c5c822ccd0"
   },
   "source": [
    "### Model assumption: Homoscedasticity"
   ]
  },
  {
   "cell_type": "markdown",
   "id": "598a9366",
   "metadata": {
    "id": "a753b695-8af3-402c-8082-128d40538f8a"
   },
   "source": [
    "The **homoscedasticity (constant variance) assumption** is that the residuals have a constant variance for all values of `X`.\n",
    "\n",
    "Check that this assumption is not violated by creating a scatterplot with the fitted values and residuals. Add a line at $y = 0$ to visualize the variance of residuals above and below $y = 0$."
   ]
  },
  {
   "cell_type": "code",
   "execution_count": null,
   "id": "b02a9b01",
   "metadata": {
    "id": "ff6a8207-2a16-45f4-8f25-1aeb99c7fb8f"
   },
   "outputs": [],
   "source": [
    "# Create a scatterplot with the fitted values from the model and the residuals.\n",
    "\n",
    "### YOUR CODE HERE ### \n",
    "\n",
    "# Set the x-axis label.\n",
    "\n",
    "# Set the y-axis label.\n",
    "\n",
    "# Set the title.\n",
    "\n",
    "# Add a line at y = 0 to visualize the variance of residuals above and below 0.\n",
    "\n",
    "### YOUR CODE HERE ### \n",
    "\n",
    "# Show the plot."
   ]
  },
  {
   "cell_type": "markdown",
   "id": "ab0b58c9",
   "metadata": {
    "id": "1ab20b66-26a9-49db-84b7-ab719500f2ff"
   },
   "source": [
    "<details>\n",
    "<summary><h4><strong>Hint 1</strong></h4></summary>\n",
    "\n",
    "Access the fitted values from the `model` object fit earlier.\n",
    "\n",
    "</details>"
   ]
  },
  {
   "cell_type": "markdown",
   "id": "aac08dab",
   "metadata": {
    "id": "24f9a01c-3fe5-4bfe-b1d9-67155c7b2182"
   },
   "source": [
    "<details>\n",
    "<summary><h4><strong>Hint 2</strong></h4></summary>\n",
    "\n",
    "Use `model.fittedvalues` to get the fitted values from the fit model.\n",
    "\n",
    "</details>"
   ]
  },
  {
   "cell_type": "markdown",
   "id": "e7389d2e",
   "metadata": {
    "id": "0a426aee-2e9e-4aef-b0b8-221b73866ac0"
   },
   "source": [
    "<details>\n",
    "<summary><h4><strong>Hint 3</strong></h4></summary>\n",
    "\n",
    "Call the `scatterplot()` function from the `seaborn` library and pass in the fitted values and residuals.\n",
    "    \n",
    "Add a line to the figure using the `axline()` function.\n",
    "\n",
    "</details>"
   ]
  },
  {
   "cell_type": "markdown",
   "id": "a27942b4",
   "metadata": {
    "id": "e50dd3c7-c85b-4f3f-8942-7927597ccd35"
   },
   "source": [
    "**QUESTION:** Is the homoscedasticity assumption met?"
   ]
  },
  {
   "cell_type": "markdown",
   "id": "9791da55",
   "metadata": {
    "id": "z1a0OkyvrIBC"
   },
   "source": [
    "[Write your response here. Double-click (or enter) to edit.]"
   ]
  },
  {
   "cell_type": "markdown",
   "id": "675ffe19",
   "metadata": {
    "id": "ae2ff735-45af-44b6-9de0-6618588f5ae4"
   },
   "source": [
    "## Step 4: Results and evaluation"
   ]
  },
  {
   "cell_type": "markdown",
   "id": "a5e8119a",
   "metadata": {
    "id": "dad4ca49-6e6b-4231-ad3a-9e99a7550ebe"
   },
   "source": [
    "### Display the OLS regression results\n",
    "\n",
    "If the linearity assumptions are met, you can interpret the model results accurately.\n",
    "\n",
    "Display the OLS regression results from the fitted model object, which includes information about the dataset, model fit, and coefficients."
   ]
  },
  {
   "cell_type": "code",
   "execution_count": null,
   "id": "9bd73750",
   "metadata": {
    "id": "40f9ef4e-ffdb-420d-b10c-647e4807dae5"
   },
   "outputs": [],
   "source": [
    "# Display the model_results defined previously.\n",
    "\n",
    "### YOUR CODE HERE ###"
   ]
  },
  {
   "cell_type": "markdown",
   "id": "4cde77c7",
   "metadata": {
    "id": "rHCw8Hy7SbVn"
   },
   "source": [
    "**Question:** The R-squared on the preceding output measures the proportion of variation in the dependent variable (Y) explained by the independent variable (X). What is your intepretation of the model's R-squared?\n"
   ]
  },
  {
   "cell_type": "markdown",
   "id": "ea5a1cf7",
   "metadata": {
    "id": "bCt9X1HurNot"
   },
   "source": [
    "[Write your response here. Double-click (or enter) to edit.]"
   ]
  },
  {
   "cell_type": "markdown",
   "id": "58378cdd",
   "metadata": {
    "id": "ededb33b-a38f-4c63-bcae-647ad8b0ff73"
   },
   "source": [
    "### Interpret the model results"
   ]
  },
  {
   "cell_type": "markdown",
   "id": "2b8ef60e",
   "metadata": {
    "id": "ab07147d-87cd-4d25-bbc5-24300c94a6cf"
   },
   "source": [
    "With the model fit evaluated, assess the coefficient estimates and the uncertainty of these estimates."
   ]
  },
  {
   "cell_type": "markdown",
   "id": "0aa51907",
   "metadata": {
    "id": "7tCGo5MUWLgq"
   },
   "source": [
    "**Question:** Based on the preceding model results, what do you observe about the coefficients?"
   ]
  },
  {
   "cell_type": "markdown",
   "id": "cb8ec250",
   "metadata": {
    "id": "K5WngsdHrd5m"
   },
   "source": [
    "[Write your response here. Double-click (or enter) to edit.]"
   ]
  },
  {
   "cell_type": "markdown",
   "id": "d17c2fa3",
   "metadata": {
    "id": "XCJEcy6JWLou"
   },
   "source": [
    "**Question:** How would you write the relationship between X and `Sales` in the form of a linear equation?"
   ]
  },
  {
   "cell_type": "markdown",
   "id": "13829784",
   "metadata": {
    "id": "c2eVoGIorZNA"
   },
   "source": [
    "[Write your response here. Double-click (or enter) to edit.]"
   ]
  },
  {
   "cell_type": "markdown",
   "id": "11a82ce4",
   "metadata": {
    "id": "P6GOmjUKWL5T"
   },
   "source": [
    "**Question:** Why is it important to interpret the beta coefficients?"
   ]
  },
  {
   "cell_type": "markdown",
   "id": "6bc26fec",
   "metadata": {
    "id": "2JJzOn1arayX"
   },
   "source": [
    "[Write your response here. Double-click (or enter) to edit.]"
   ]
  },
  {
   "cell_type": "markdown",
   "id": "f0637b6e",
   "metadata": {
    "id": "ec5516fe-f46e-42ff-9cf2-b6b3a60c4697"
   },
   "source": [
    "### Measure the uncertainty of the coefficient estimates"
   ]
  },
  {
   "cell_type": "markdown",
   "id": "125fa86e",
   "metadata": {
    "id": "591dd927-0a08-4010-bd5f-79210ccb8883"
   },
   "source": [
    "Model coefficients are estimated. This means there is an amount of uncertainty in the estimate. A p-value and $95\\%$ confidence interval are provided with each coefficient to quantify the uncertainty for that coefficient estimate.\n",
    "\n",
    "Display the model results again."
   ]
  },
  {
   "cell_type": "code",
   "execution_count": null,
   "id": "1151e5a3",
   "metadata": {
    "id": "1e700f2b-f827-4df1-b545-3b8e8dbb0116"
   },
   "outputs": [],
   "source": [
    "# Display the model_results defined previously.\n",
    "\n",
    "### YOUR CODE HERE ###"
   ]
  },
  {
   "cell_type": "markdown",
   "id": "e9c5b283",
   "metadata": {
    "id": "C2Of3i9-aT1o"
   },
   "source": [
    "**Question:** Based on this model, what is your interpretation of the p-value and confidence interval for the coefficient estimate of X?"
   ]
  },
  {
   "cell_type": "markdown",
   "id": "3a920641",
   "metadata": {
    "id": "l2agdG7Erg9K"
   },
   "source": [
    "[Write your response here. Double-click (or enter) to edit.]"
   ]
  },
  {
   "cell_type": "markdown",
   "id": "1b00cef7",
   "metadata": {
    "id": "9a3a47e0-c8ff-4aba-adc6-be8947065118"
   },
   "source": [
    "**Question:** Based on this model, what are you interested in exploring?"
   ]
  },
  {
   "cell_type": "markdown",
   "id": "de986d1f",
   "metadata": {
    "id": "3XiGB2XAritE"
   },
   "source": [
    "[Write your response here. Double-click (or enter) to edit.]"
   ]
  },
  {
   "cell_type": "markdown",
   "id": "07af716b",
   "metadata": {
    "id": "ab9c4e83-a3ae-4f9c-b77f-710c4cd26605",
    "tags": []
   },
   "source": [
    "**Question:** What recommendations would you make to the leadership at your organization?"
   ]
  },
  {
   "cell_type": "markdown",
   "id": "61e69df5",
   "metadata": {
    "id": "5p3GYpQprkSX"
   },
   "source": [
    "[Write your response here. Double-click (or enter) to edit.]"
   ]
  },
  {
   "cell_type": "markdown",
   "id": "8b8ffe00",
   "metadata": {
    "id": "64cd7d5d-7fa4-4ec9-973b-8c73f6ebbc03"
   },
   "source": [
    "## Considerations\n",
    "\n",
    "**What are some key takeaways that you learned from this lab?**\n",
    "\n",
    "[Write your response here. Double-click (or enter) to edit.]\n",
    "\n",
    "**What findings would you share with others?**\n",
    "\n",
    "[Write your response here. Double-click (or enter) to edit.]\n",
    "\n",
    "\n",
    "**How would you frame your findings to stakeholders?**\n",
    "\n",
    "[Write your response here. Double-click (or enter) to edit.]"
   ]
  },
  {
   "cell_type": "markdown",
   "id": "9cbdf424",
   "metadata": {
    "id": "PxNa8oCGQyJv"
   },
   "source": [
    "#### **References**\n",
    "\n",
    "Saragih, H.S. (2020). [*Dummy Marketing and Sales Data*](https://www.kaggle.com/datasets/harrimansaragih/dummy-advertising-and-sales-data).\n",
    "\n",
    "Dale, D.,Droettboom, M., Firing, E., Hunter, J. (n.d.). [*Matplotlib.Pyplot.Axline — Matplotlib 3.5.0 Documentation*](https://matplotlib.org/3.5.0/api/_as_gen/matplotlib.pyplot.axline.html). "
   ]
  },
  {
   "cell_type": "markdown",
   "id": "681c04ce",
   "metadata": {},
   "source": [
    "**Congratulations!** You've completed this lab. However, you may not notice a green check mark next to this item on Coursera's platform. Please continue your progress regardless of the check mark. Just click on the \"save\" icon at the top of this notebook to ensure your work has been logged."
   ]
  }
 ],
 "metadata": {
  "colab": {
   "collapsed_sections": [],
   "provenance": []
  },
  "environment": {
   "kernel": "python3",
   "name": "common-cpu.m112",
   "type": "gcloud",
   "uri": "gcr.io/deeplearning-platform-release/base-cpu:m112"
  },
  "kernelspec": {
   "display_name": "Python 3",
   "language": "python",
   "name": "python3"
  },
  "language_info": {
   "codemirror_mode": {
    "name": "ipython",
    "version": 3
   },
   "file_extension": ".py",
   "mimetype": "text/x-python",
   "name": "python",
   "nbconvert_exporter": "python",
   "pygments_lexer": "ipython3",
   "version": "3.10.12"
  }
 },
 "nbformat": 4,
 "nbformat_minor": 5
}
